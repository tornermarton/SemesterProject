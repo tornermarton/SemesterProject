{
 "cells": [
  {
   "cell_type": "code",
   "execution_count": 1,
   "metadata": {},
   "outputs": [],
   "source": [
    "import numpy as np\n",
    "import pandas as pd\n",
    "\n",
    "import time\n",
    "import math\n",
    "\n",
    "from IPython.display import display\n",
    "\n",
    "import matplotlib.pyplot as plt\n",
    "%matplotlib inline\n",
    "\n",
    "from functions import *"
   ]
  },
  {
   "cell_type": "code",
   "execution_count": 2,
   "metadata": {},
   "outputs": [],
   "source": [
    "# set default values\n",
    "pd.set_option('display.max_rows', None)\n",
    "pd.set_option('display.max_columns', None)\n",
    "\n",
    "plt.rcParams[\"figure.figsize\"] = [16, 9]"
   ]
  },
  {
   "cell_type": "markdown",
   "metadata": {},
   "source": [
    "**Data format:**\n",
    "\n",
    "A - ask  \n",
    "B - bid  \n",
    "D - depth   \n",
    "P - price  \n",
    "V - volume (quantity)  \n",
    "TS - last modification timestamp  \n",
    "\n",
    "E.g.: A_D1_P - depth1 ask price = best ask price, B_D100_V = worst bid volume\n",
    "\n",
    "| A_D1_P | A_D1_V | A_D1_TS | A_D2_P | A_D2_V | A_D2_TS | ... | A_D100_P | A_D100_V | A_D100_TS | B_D1_P | B_D1_V | B_D1_TS | ... | B_D100_P | B_D100_V | B_D1_TS | SAVE_TS |\n",
    "|--------|--------|---------|--------|--------|---------|-----|----------|----------|-----------|--------|--------|---------|-----|----------|----------|---------|---------|\n"
   ]
  },
  {
   "cell_type": "code",
   "execution_count": null,
   "metadata": {},
   "outputs": [],
   "source": [
    "def display_snapshot(snapshot):\n",
    "    print('Timestamp:\\t', time.strftime('%Y/%m/%d %H:%M:%S',  time.gmtime(snapshot[600])))\n",
    "    print('Mid-price:\\t', calc_mid_price(snapshot))\n",
    "    print('Spread:\\t\\t', calc_spread(snapshot))\n",
    "    print('WAMP:\\t\\t', calc_WAMP(snapshot))\n",
    "    print('VWAP:\\t\\t', calc_VWAP(snapshot))\n",
    "    \n",
    "    plot_LOB(snapshot, 100)"
   ]
  },
  {
   "cell_type": "code",
   "execution_count": null,
   "metadata": {},
   "outputs": [],
   "source": [
    "def display_day(dataset):\n",
    "    wamps = [calc_WAMP(i) for i in dataset[:, :600]]\n",
    "    vwaps = [calc_VWAP(i) for i in dataset[:, :600]]\n",
    "    \n",
    "    print('Timestamp:\\t', time.strftime('%Y/%m/%d',  time.gmtime(dataset[0][600])))\n",
    "    \n",
    "    data = {\n",
    "        'Open': [wamps[0], vwaps[0]],\n",
    "        'High': [np.amax(wamps), np.amax(vwaps)],\n",
    "        'Low': [np.amin(wamps), np.amin(vwaps)],\n",
    "        'Close': [wamps[-1], vwaps[-1]],\n",
    "        'Volatility': [calc_volatility(wamps), calc_volatility(vwaps)]\n",
    "    }\n",
    "    \n",
    "    df = pd.DataFrame.from_dict(data, orient='index', columns=['WAMP', 'VWAP'])\n",
    "    \n",
    "    display(df)\n",
    "    \n",
    "    plot_price_movement(dataset)"
   ]
  },
  {
   "cell_type": "code",
   "execution_count": null,
   "metadata": {},
   "outputs": [],
   "source": [
    "# df = pd.read_csv('./data/kraken/xbt_usd/ss_2019-03-08.csv.gz', compression='gzip', header=None)\n",
    "dataset = np.loadtxt('./data/kraken/ada_usd/ss_2019-03-15.csv.gz', delimiter=',')"
   ]
  },
  {
   "cell_type": "code",
   "execution_count": null,
   "metadata": {},
   "outputs": [],
   "source": [
    "display_snapshot(dataset[700])"
   ]
  },
  {
   "cell_type": "code",
   "execution_count": null,
   "metadata": {},
   "outputs": [],
   "source": [
    "display_day(dataset)"
   ]
  },
  {
   "cell_type": "code",
   "execution_count": null,
   "metadata": {},
   "outputs": [],
   "source": [
    "# wamp percent - lower difference is considered as NO_MOVE\n",
    "alpha = 0.5\n",
    "\n",
    "delay = 100\n",
    "\n",
    "wamps = [calc_WAMP(ss) for ss in dataset]"
   ]
  },
  {
   "cell_type": "code",
   "execution_count": null,
   "metadata": {},
   "outputs": [],
   "source": [
    "labels = make_labels(snapshots=dataset, add_no_move=False, alpha=alpha, delay=delay)\n",
    "plot_labels(wamps[:-delay], labels)"
   ]
  },
  {
   "cell_type": "code",
   "execution_count": null,
   "metadata": {},
   "outputs": [],
   "source": []
  }
 ],
 "metadata": {
  "kernelspec": {
   "display_name": "Python 3",
   "language": "python",
   "name": "python3"
  },
  "language_info": {
   "codemirror_mode": {
    "name": "ipython",
    "version": 3
   },
   "file_extension": ".py",
   "mimetype": "text/x-python",
   "name": "python",
   "nbconvert_exporter": "python",
   "pygments_lexer": "ipython3",
   "version": "3.6.6"
  }
 },
 "nbformat": 4,
 "nbformat_minor": 2
}
