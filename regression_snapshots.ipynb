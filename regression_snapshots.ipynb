{
 "cells": [
  {
   "cell_type": "code",
   "execution_count": 1,
   "metadata": {},
   "outputs": [],
   "source": [
    "import numpy as np\n",
    "\n",
    "from sklearn import linear_model\n",
    "from sklearn.model_selection import train_test_split\n",
    "from sklearn.preprocessing import StandardScaler\n",
    "from sklearn.ensemble import RandomForestClassifier\n",
    "\n",
    "import time\n",
    "import math\n",
    "import os\n",
    "import gzip\n",
    "\n",
    "from IPython.display import display\n",
    "\n",
    "import matplotlib.pyplot as plt\n",
    "%matplotlib inline\n",
    "\n",
    "# functions to calculate WAMP, VWAP, etc. and display plots\n",
    "from functions.market.features import *\n",
    "from functions.preprocessing import *\n",
    "from functions.evaluation import *"
   ]
  },
  {
   "cell_type": "code",
   "execution_count": 2,
   "metadata": {},
   "outputs": [],
   "source": [
    "np.random.seed(1234)\n",
    "# set_random_seed(1234)\n",
    "np.set_printoptions(precision=2)"
   ]
  },
  {
   "cell_type": "markdown",
   "metadata": {},
   "source": [
    "# Dataprep"
   ]
  },
  {
   "cell_type": "code",
   "execution_count": 3,
   "metadata": {},
   "outputs": [],
   "source": [
    "n_labels = 3\n",
    "\n",
    "if n_labels == 2:\n",
    "    class_names = [-1, 1]\n",
    "elif n_labels == 3:\n",
    "    class_names = [-1, 0, 1]\n",
    "else:\n",
    "    class_names = []"
   ]
  },
  {
   "cell_type": "code",
   "execution_count": 47,
   "metadata": {},
   "outputs": [
    {
     "name": "stdout",
     "output_type": "stream",
     "text": [
      "Dataset size: 42668\n",
      "Depth: 100\n"
     ]
    }
   ],
   "source": [
    "with gzip.GzipFile(\"data/kraken/eth_eur_d100_w100_l3.npy.gz\", \"r\") as file:\n",
    "    dataset = np.load(file)\n",
    "    \n",
    "lob_depth = int(len(dataset[\"snapshot\"][0])/2)\n",
    "\n",
    "print(\"Dataset size:\", len(dataset))\n",
    "print(\"Depth:\", lob_depth)"
   ]
  },
  {
   "cell_type": "code",
   "execution_count": 48,
   "metadata": {},
   "outputs": [
    {
     "name": "stdout",
     "output_type": "stream",
     "text": [
      "Label distribution in the whole dataset:\n",
      "UP labels: 15100 \t 35.389519077528824%\n",
      "NO_MOVE labels: 14332 \t 33.58957532577107%\n",
      "DOWN labels: 13236 \t 31.020905596700104%\n"
     ]
    }
   ],
   "source": [
    "print(\"Label distribution in the whole dataset:\")\n",
    "count_labels(dataset)"
   ]
  },
  {
   "cell_type": "code",
   "execution_count": 49,
   "metadata": {},
   "outputs": [],
   "source": [
    "window_size = 50\n",
    "    \n",
    "dataset = dataset[window_size:]\n",
    "\n",
    "input_ = dataset[\"snapshot\"].reshape(-1, 3*lob_depth*2)\n",
    "\n",
    "for i in range(len(input_)-window_size):\n",
    "    scaler = StandardScaler().fit(input_[i:i+window_size])\n",
    "    \n",
    "    input_[i+window_size] = scaler.transform([input_[i+window_size]])[0]\n",
    "\n",
    "dataset[\"snapshot\"] = input_.reshape(-1, lob_depth*2, 3)\n",
    "dataset = dataset[window_size:]"
   ]
  },
  {
   "cell_type": "code",
   "execution_count": 39,
   "metadata": {},
   "outputs": [],
   "source": [
    "input_ = dataset[\"snapshot\"].reshape(-1, 3*lob_depth*2)\n",
    "\n",
    "for i in range(len(input_)-window_size):\n",
    "    slice_ = input_[i:i+window_size]\n",
    "    \n",
    "    mean = np.mean(slice_)\n",
    "    std = np.std(slice_)\n",
    "    \n",
    "    input_[i+window_size] = (input_[i+window_size] - mean) /std\n",
    "\n",
    "dataset[\"snapshot\"] = input_.reshape(-1, lob_depth*2, 3)\n",
    "dataset = dataset[window_size:]"
   ]
  },
  {
   "cell_type": "code",
   "execution_count": 50,
   "metadata": {},
   "outputs": [],
   "source": [
    "# sort labels for the equalization\n",
    "ups = dataset[np.where(dataset[\"label\"] == 1)]\n",
    "nomoves = dataset[np.where(dataset[\"label\"] == 0)]\n",
    "downs = dataset[np.where(dataset[\"label\"] == -1)]"
   ]
  },
  {
   "cell_type": "code",
   "execution_count": 51,
   "metadata": {},
   "outputs": [],
   "source": [
    "nb_samples = len(dataset)\n",
    "\n",
    "# to equalize number of labels in the dataset use the lowest number\n",
    "n_samples_per_label = np.min([len(ups), len(nomoves), len(downs)])\n",
    "\n",
    "test_split = 0.2"
   ]
  },
  {
   "cell_type": "code",
   "execution_count": 52,
   "metadata": {},
   "outputs": [],
   "source": [
    "# train-test split\n",
    "ups_train, ups_test         = train_test_split(ups, test_size=test_split, random_state=42, shuffle = False, stratify = None)\n",
    "nomoves_train, nomoves_test = train_test_split(nomoves, test_size=test_split, random_state=42, shuffle = False, stratify = None)\n",
    "downs_train, downs_test     = train_test_split(downs, test_size=test_split, random_state=42, shuffle = False, stratify = None)"
   ]
  },
  {
   "cell_type": "code",
   "execution_count": 53,
   "metadata": {},
   "outputs": [],
   "source": [
    "# shuffle before selecting by the n_samples_per_label \n",
    "# (to avoid not using any data from the last section of the bigger sets)\n",
    "np.random.shuffle(ups_train)\n",
    "np.random.shuffle(ups_test)\n",
    "\n",
    "np.random.shuffle(nomoves_train)\n",
    "np.random.shuffle(nomoves_test)\n",
    "\n",
    "np.random.shuffle(downs_train)\n",
    "np.random.shuffle(downs_test)"
   ]
  },
  {
   "cell_type": "code",
   "execution_count": 54,
   "metadata": {},
   "outputs": [],
   "source": [
    "# create the mixed train and test sets\n",
    "train = np.concatenate(\n",
    "     (ups_train[:int(n_samples_per_label*(1-test_split))], \n",
    "     nomoves_train[:int(n_samples_per_label*(1-test_split))], \n",
    "     downs_train[:int(n_samples_per_label*(1-test_split))])\n",
    ")\n",
    "\n",
    "test = np.concatenate(\n",
    "     (ups_test[:int(n_samples_per_label*(test_split))], \n",
    "     nomoves_test[:int(n_samples_per_label*(test_split))], \n",
    "     downs_test[:int(n_samples_per_label*(test_split))])\n",
    ")"
   ]
  },
  {
   "cell_type": "code",
   "execution_count": 55,
   "metadata": {},
   "outputs": [],
   "source": [
    "# shuffle to mix labels\n",
    "np.random.shuffle(train)\n",
    "np.random.shuffle(test)"
   ]
  },
  {
   "cell_type": "code",
   "execution_count": 56,
   "metadata": {},
   "outputs": [],
   "source": [
    "# input, select prices only\n",
    "X_train = train['snapshot'][:,:,0:2]\n",
    "X_test = test['snapshot'][:,:,0:2]\n",
    "\n",
    "# reshape (flatten)\n",
    "X_train = X_train.reshape(-1, 2*lob_depth*2)\n",
    "X_test = X_test.reshape(-1, 2*lob_depth*2)\n",
    "\n",
    "# output\n",
    "Y_train = train['label']\n",
    "Y_test = test['label']"
   ]
  },
  {
   "cell_type": "code",
   "execution_count": 57,
   "metadata": {
    "scrolled": true
   },
   "outputs": [
    {
     "name": "stdout",
     "output_type": "stream",
     "text": [
      "Train shape: (31647, 400)\n",
      "Label distribution in train set:\n",
      "UP labels: 10549 \t 33.33333333333333%\n",
      "NO_MOVE labels: 10549 \t 33.33333333333333%\n",
      "DOWN labels: 10549 \t 33.33333333333333%\n",
      "\n",
      "Test shape: (7911, 400)\n",
      "Label distribution in test set:\n",
      "UP labels: 2637 \t 33.33333333333333%\n",
      "NO_MOVE labels: 2637 \t 33.33333333333333%\n",
      "DOWN labels: 2637 \t 33.33333333333333%\n"
     ]
    }
   ],
   "source": [
    "print(\"Train shape:\", X_train.shape)\n",
    "print(\"Label distribution in train set:\")\n",
    "count_labels(train)\n",
    "\n",
    "print()\n",
    "\n",
    "print(\"Test shape:\", X_test.shape)\n",
    "print(\"Label distribution in test set:\")\n",
    "count_labels(test)"
   ]
  },
  {
   "cell_type": "markdown",
   "metadata": {},
   "source": [
    "# Logistic Regression"
   ]
  },
  {
   "cell_type": "code",
   "execution_count": 60,
   "metadata": {
    "scrolled": true
   },
   "outputs": [],
   "source": [
    "C = 1e-3\n",
    "\n",
    "if n_labels == 2:\n",
    "    logreg = linear_model.LogisticRegression(C=C,solver='lbfgs')\n",
    "else:\n",
    "    logreg = linear_model.LogisticRegression(C=C,solver='saga', multi_class='multinomial', max_iter=10000, n_jobs=-1)"
   ]
  },
  {
   "cell_type": "code",
   "execution_count": 61,
   "metadata": {},
   "outputs": [
    {
     "name": "stdout",
     "output_type": "stream",
     "text": [
      "LOGISTIC REGRESSION\n",
      "R^2 score: 0.322715206674251\n",
      "Confusion matrix, without normalization\n"
     ]
    },
    {
     "data": {
      "image/png": "[encoded data removed]",
      "text/plain": [
       "<Figure size 432x288 with 2 Axes>"
      ]
     },
     "metadata": {
      "needs_background": "light"
     },
     "output_type": "display_data"
    },
    {
     "name": "stdout",
     "output_type": "stream",
     "text": [
      "Normalized confusion matrix\n"
     ]
    },
    {
     "data": {
      "image/png": "[encoded data removed]",
      "text/plain": [
       "<Figure size 432x288 with 2 Axes>"
      ]
     },
     "metadata": {
      "needs_background": "light"
     },
     "output_type": "display_data"
    }
   ],
   "source": [
    "print(\"LOGISTIC REGRESSION\")\n",
    "logreg.fit(X_train,Y_train)\n",
    "\n",
    "print(\"R^2 score:\", logreg.score(X_test,Y_test))\n",
    "\n",
    "predictions = logreg.predict(X_test)\n",
    "title = 'Logistic regression on 30 days of ETH_EUR data'\n",
    "\n",
    "# Plot non-normalized confusion matrix\n",
    "plot_confusion_matrix(Y_test, predictions, classes=class_names, title=title)\n",
    "\n",
    "# Plot normalized confusion matrix\n",
    "plot_confusion_matrix(Y_test, predictions, classes=class_names, normalize=True, title=title)"
   ]
  },
  {
   "cell_type": "markdown",
   "metadata": {},
   "source": [
    "# Random Forest"
   ]
  },
  {
   "cell_type": "code",
   "execution_count": 58,
   "metadata": {},
   "outputs": [],
   "source": [
    "# Create a Gaussian Classifier\n",
    "clf = RandomForestClassifier(n_estimators = 128, random_state = 42)"
   ]
  },
  {
   "cell_type": "code",
   "execution_count": 59,
   "metadata": {},
   "outputs": [
    {
     "name": "stdout",
     "output_type": "stream",
     "text": [
      "RANDOM FOREST REGRESSION\n",
      "R^2 score: 0.38604474781949183\n",
      "Confusion matrix, without normalization\n"
     ]
    },
    {
     "data": {
      "image/png": "[encoded data removed]",
      "text/plain": [
       "<Figure size 432x288 with 2 Axes>"
      ]
     },
     "metadata": {
      "needs_background": "light"
     },
     "output_type": "display_data"
    },
    {
     "name": "stdout",
     "output_type": "stream",
     "text": [
      "Normalized confusion matrix\n"
     ]
    },
    {
     "data": {
      "image/png": "[encoded data removed]",
      "text/plain": [
       "<Figure size 432x288 with 2 Axes>"
      ]
     },
     "metadata": {
      "needs_background": "light"
     },
     "output_type": "display_data"
    }
   ],
   "source": [
    "print(\"RANDOM FOREST REGRESSION\")\n",
    "clf.fit(X_train,Y_train)\n",
    "\n",
    "print(\"R^2 score:\", clf.score(X_test, Y_test))\n",
    "\n",
    "predictions = clf.predict(X_test)\n",
    "title = 'Random forest regression on of 30 days ETH_EUR data'\n",
    "\n",
    "# Plot non-normalized confusion matrix\n",
    "plot_confusion_matrix(Y_test, predictions, classes=class_names, title=title)\n",
    "\n",
    "# Plot normalized confusion matrix\n",
    "plot_confusion_matrix(Y_test, predictions, classes=class_names, normalize=True, title=title)"
   ]
  },
  {
   "cell_type": "markdown",
   "metadata": {},
   "source": [
    "# Predict based on history"
   ]
  },
  {
   "cell_type": "code",
   "execution_count": null,
   "metadata": {},
   "outputs": [],
   "source": [
    "history_len = 40\n",
    "alpha = 0.7\n",
    "\n",
    "predictions = np.zeros([len(dataset)-history_len], dtype=[(\"label\", int, 1)])\n",
    "\n",
    "print(\"BASELINE PREDICTION BASED ON HISTORICAL MEAN\")\n",
    "\n",
    "# make predictions\n",
    "for i in range(len(dataset)-history_len):\n",
    "    mean = np.mean(dataset[\"wamp\"][i:i+history_len])\n",
    "    act_wamp = dataset[\"wamp\"][i+history_len]\n",
    "    volatility = calc_volatility(dataset[\"wamp\"][i:i+history_len])\n",
    "    \n",
    "    threshold = volatility * alpha\n",
    "    \n",
    "    if n_labels == 2:\n",
    "        if mean < act_wamp:\n",
    "            predictions[i] = 1\n",
    "        else:\n",
    "            predictions[i] = -1\n",
    "    \n",
    "    elif n_labels == 3:\n",
    "        if mean - act_wamp < -threshold:\n",
    "            predictions[i] = 1\n",
    "        elif mean - act_wamp > threshold:\n",
    "            predictions[i] = -1\n",
    "        else:\n",
    "            predictions[i] = 0\n",
    "    else:\n",
    "        raise AttributeError()\n",
    "\n",
    "title = \"Baseline prediction on 30 days of ETH_EUR data\"      \n",
    "\n",
    "# Plot non-normalized confusion matrix\n",
    "plot_confusion_matrix(dataset[\"label\"][history_len:], predictions[\"label\"], classes=class_names,\n",
    "                      title=title)\n",
    "\n",
    "# Plot normalized confusion matrix\n",
    "plot_confusion_matrix(dataset[\"label\"][history_len:], predictions[\"label\"], classes=class_names, normalize=True,\n",
    "                      title=title)"
   ]
  },
  {
   "cell_type": "code",
   "execution_count": null,
   "metadata": {},
   "outputs": [],
   "source": []
  }
 ],
 "metadata": {
  "kernelspec": {
   "display_name": "Python 3",
   "language": "python",
   "name": "python3"
  },
  "language_info": {
   "codemirror_mode": {
    "name": "ipython",
    "version": 3
   },
   "file_extension": ".py",
   "mimetype": "text/x-python",
   "name": "python",
   "nbconvert_exporter": "python",
   "pygments_lexer": "ipython3",
   "version": "3.6.6"
  }
 },
 "nbformat": 4,
 "nbformat_minor": 2
}
