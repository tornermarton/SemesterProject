{
 "cells": [
  {
   "cell_type": "code",
   "execution_count": 1,
   "metadata": {},
   "outputs": [],
   "source": [
    "import numpy as np\n",
    "\n",
    "from sklearn import linear_model\n",
    "from sklearn.preprocessing import StandardScaler\n",
    "from sklearn.ensemble import RandomForestClassifier\n",
    "\n",
    "import time\n",
    "import math\n",
    "import os\n",
    "\n",
    "from IPython.display import display\n",
    "\n",
    "import matplotlib.pyplot as plt\n",
    "%matplotlib inline\n",
    "\n",
    "# functions to calculate WAMP, VWAP, etc. and display plots\n",
    "from functions import *"
   ]
  },
  {
   "cell_type": "code",
   "execution_count": 2,
   "metadata": {},
   "outputs": [],
   "source": [
    "np.random.seed(1234)\n",
    "# set_random_seed(1234)\n",
    "\n",
    "data_root_dir = \"data/kraken/\"\n",
    "n_asset_pairs = 25\n",
    "n_ss_per_file = 1440\n",
    "lob_depth = 30\n",
    "ss_shape = (2*lob_depth, 3)"
   ]
  },
  {
   "cell_type": "code",
   "execution_count": 3,
   "metadata": {},
   "outputs": [],
   "source": [
    "def read_file_list(data_root_dir, verbose=False):\n",
    "    updates_file_list = []\n",
    "    snapshots_file_list = []\n",
    "\n",
    "    for (dirpath, dirnames, filenames) in os.walk(data_root_dir):\n",
    "        updates_file_list.extend([dirpath+'/'+filename for filename in filenames if filename != \".DS_Store\" and filename[0] == 'u'])\n",
    "        snapshots_file_list.extend([dirpath+'/'+filename for filename in filenames if filename != \".DS_Store\" and filename[0] == 's'])\n",
    "\n",
    "    updates_file_list = sorted(updates_file_list)\n",
    "    snapshots_file_list = sorted(snapshots_file_list)\n",
    "    \n",
    "    if verbose:\n",
    "        print(len(snapshots_file_list), \"update files read.\")\n",
    "        print(len(updates_file_list), \"snapshot files read.\")\n",
    "        \n",
    "    return updates_file_list, snapshots_file_list"
   ]
  },
  {
   "cell_type": "code",
   "execution_count": 4,
   "metadata": {},
   "outputs": [],
   "source": [
    "def count_labels(dataset):\n",
    "    up_cnt = 0\n",
    "    down_cnt = 0\n",
    "    nomove_cnt = 0\n",
    "    for i,data in enumerate(dataset):\n",
    "        if data[\"label\"] == -1:\n",
    "            down_cnt += 1\n",
    "        if data[\"label\"] == 0:\n",
    "            nomove_cnt += 1\n",
    "        if data[\"label\"] == 1:\n",
    "            up_cnt += 1\n",
    "\n",
    "    print(\"UP labels:\", up_cnt, '\\t', '{}%'.format(up_cnt/(up_cnt+nomove_cnt+down_cnt)*100))\n",
    "    print(\"NO_MOVE labels:\", nomove_cnt, '\\t', '{}%'.format(nomove_cnt/(up_cnt+nomove_cnt+down_cnt)*100))\n",
    "    print(\"DOWN labels:\", down_cnt, '\\t', '{}%'.format(down_cnt/(up_cnt+nomove_cnt+down_cnt)*100))"
   ]
  },
  {
   "cell_type": "code",
   "execution_count": 5,
   "metadata": {},
   "outputs": [
    {
     "name": "stdout",
     "output_type": "stream",
     "text": [
      "30 update files read.\n",
      "30 snapshot files read.\n",
      "1 days of data is collected.\n"
     ]
    }
   ],
   "source": [
    "updates_file_list, snapshots_file_list = read_file_list(data_root_dir=data_root_dir, verbose=True)\n",
    "\n",
    "n_files = len(snapshots_file_list)\n",
    "n_days = int(n_files / n_asset_pairs)\n",
    "\n",
    "print(n_days, \"days of data is collected.\")"
   ]
  },
  {
   "cell_type": "markdown",
   "metadata": {},
   "source": [
    "# Dataprep"
   ]
  },
  {
   "cell_type": "code",
   "execution_count": 11,
   "metadata": {},
   "outputs": [],
   "source": [
    "alpha = 0.0015\n",
    "delay = 100\n",
    "n_labels = 3"
   ]
  },
  {
   "cell_type": "code",
   "execution_count": 12,
   "metadata": {},
   "outputs": [],
   "source": [
    "dataset = np.zeros([n_files*n_ss_per_file], \n",
    "                   dtype=[('snapshot', np.float32, ss_shape), ('rel_prices', np.float32, 2*lob_depth), ('timestamp', np.float32, 1), ('wamp', np.float32, 1),('label', int, 1)])\n",
    "\n",
    "global_cnt = 0\n",
    "\n",
    "for i in range(n_asset_pairs):\n",
    "    asset_pair_cnt = 0\n",
    "    \n",
    "    for j in range(n_days):\n",
    "        data = np.loadtxt(snapshots_file_list[i*n_days+j], delimiter=',')\n",
    "        \n",
    "        for j, ss in enumerate(data):\n",
    "            snapshot = ss[:-1].reshape(-1, 3)\n",
    "            timestamp = ss[-1]\n",
    "            wamp = calc_WAMP(ss)\n",
    "\n",
    "            dataset[global_cnt][\"snapshot\"] = snapshot[100-lob_depth:100+lob_depth]\n",
    "            dataset[global_cnt][\"rel_prices\"] = [price / wamp for price in snapshot[100-lob_depth:100+lob_depth,0]]\n",
    "            dataset[global_cnt][\"timestamp\"] = timestamp\n",
    "            dataset[global_cnt][\"wamp\"] = wamp\n",
    "\n",
    "            # calculate label for the last snapshot for which enough data is provided with this snapshot\n",
    "            if asset_pair_cnt >= delay:\n",
    "                mean = np.mean(dataset[\"wamp\"][global_cnt-delay+1:global_cnt+1])\n",
    "                act_wamp = dataset[\"wamp\"][global_cnt-delay]\n",
    "                \n",
    "                if n_labels == 3:\n",
    "                    if mean - act_wamp < -(act_wamp*alpha):\n",
    "                        dataset[global_cnt-delay][\"label\"] = -1\n",
    "\n",
    "                    elif mean - act_wamp > act_wamp*alpha:\n",
    "                        dataset[global_cnt-delay][\"label\"] = 1\n",
    "\n",
    "                    else:\n",
    "                        dataset[global_cnt-delay][\"label\"] = 0\n",
    "                elif n_labels == 2:\n",
    "                    if mean < act_wamp:\n",
    "                        dataset[global_cnt-delay][\"label\"] = -1\n",
    "                    else:\n",
    "                        dataset[global_cnt-delay][\"label\"] = 1\n",
    "                else:\n",
    "                    raise AttributeError()\n",
    "                    \n",
    "            asset_pair_cnt += 1\n",
    "            global_cnt += 1\n",
    "            \n",
    "    # set back global_cnt to overwrite not labeled data (last delay number of elements)\n",
    "    global_cnt = global_cnt-delay\n",
    "\n",
    "dataset = dataset[:global_cnt]"
   ]
  },
  {
   "cell_type": "code",
   "execution_count": 13,
   "metadata": {},
   "outputs": [
    {
     "data": {
      "text/plain": [
       "33249"
      ]
     },
     "execution_count": 13,
     "metadata": {},
     "output_type": "execute_result"
    }
   ],
   "source": [
    "len(dataset)"
   ]
  },
  {
   "cell_type": "code",
   "execution_count": 14,
   "metadata": {},
   "outputs": [
    {
     "name": "stdout",
     "output_type": "stream",
     "text": [
      "UP labels: 10328 \t 31.062588348521757%\n",
      "NO_MOVE labels: 14231 \t 42.8012872567596%\n",
      "DOWN labels: 8690 \t 26.136124394718642%\n"
     ]
    }
   ],
   "source": [
    "count_labels(dataset)"
   ]
  },
  {
   "cell_type": "code",
   "execution_count": 15,
   "metadata": {},
   "outputs": [],
   "source": [
    "ups = dataset[np.where(dataset[\"label\"] == 1)]\n",
    "nomoves = dataset[np.where(dataset[\"label\"] == 0)]\n",
    "downs = dataset[np.where(dataset[\"label\"] == -1)]"
   ]
  },
  {
   "cell_type": "code",
   "execution_count": 16,
   "metadata": {},
   "outputs": [],
   "source": [
    "nb_samples = len(dataset)\n",
    "\n",
    "n_samples_per_label = 5000\n",
    "\n",
    "valid_split = 0.2"
   ]
  },
  {
   "cell_type": "code",
   "execution_count": 17,
   "metadata": {},
   "outputs": [],
   "source": [
    "# shuffle\n",
    "np.random.shuffle(ups)\n",
    "np.random.shuffle(nomoves)\n",
    "np.random.shuffle(downs)"
   ]
  },
  {
   "cell_type": "code",
   "execution_count": 18,
   "metadata": {},
   "outputs": [],
   "source": [
    "# train-valid-test split\n",
    "train = np.concatenate(\n",
    "    (ups[0:int(n_samples_per_label*(1-valid_split))], \n",
    "     nomoves[0:int(n_samples_per_label*(1-valid_split))], \n",
    "     downs[0:int(n_samples_per_label*(1-valid_split))])\n",
    ")\n",
    "\n",
    "valid = np.concatenate(\n",
    "    (ups[int(n_samples_per_label*(1-valid_split)):n_samples_per_label], \n",
    "     nomoves[int(n_samples_per_label*(1-valid_split)):n_samples_per_label], \n",
    "     downs[int(n_samples_per_label*(1-valid_split)):n_samples_per_label])\n",
    ")\n",
    "\n",
    "# input, select prices only\n",
    "X_train = train['snapshot']\n",
    "X_valid = valid['snapshot']\n",
    "\n",
    "# reshape\n",
    "X_train = X_train.reshape(-1, 3*lob_depth*2)\n",
    "X_valid = X_valid.reshape(-1, 3*lob_depth*2)\n",
    "\n",
    "# output\n",
    "Y_train = train['label']\n",
    "Y_valid = valid['label']"
   ]
  },
  {
   "cell_type": "code",
   "execution_count": 19,
   "metadata": {},
   "outputs": [
    {
     "name": "stdout",
     "output_type": "stream",
     "text": [
      "UP labels: 4000 \t 33.33333333333333%\n",
      "NO_MOVE labels: 4000 \t 33.33333333333333%\n",
      "DOWN labels: 4000 \t 33.33333333333333%\n"
     ]
    }
   ],
   "source": [
    "# number of labels in train set\n",
    "\n",
    "count_labels(train)"
   ]
  },
  {
   "cell_type": "code",
   "execution_count": 20,
   "metadata": {},
   "outputs": [
    {
     "name": "stdout",
     "output_type": "stream",
     "text": [
      "UP labels: 1000 \t 33.33333333333333%\n",
      "NO_MOVE labels: 1000 \t 33.33333333333333%\n",
      "DOWN labels: 1000 \t 33.33333333333333%\n"
     ]
    }
   ],
   "source": [
    "# number of labels in validation set\n",
    "\n",
    "count_labels(valid)"
   ]
  },
  {
   "cell_type": "code",
   "execution_count": 21,
   "metadata": {
    "scrolled": true
   },
   "outputs": [
    {
     "data": {
      "text/plain": [
       "(12000, 180)"
      ]
     },
     "execution_count": 21,
     "metadata": {},
     "output_type": "execute_result"
    }
   ],
   "source": [
    "X_train.shape"
   ]
  },
  {
   "cell_type": "code",
   "execution_count": 22,
   "metadata": {},
   "outputs": [],
   "source": [
    "# standard scaling\n",
    "scaler = StandardScaler().fit(X_train)\n",
    "X_train = scaler.transform(X_train)\n",
    "X_valid = scaler.transform(X_valid)"
   ]
  },
  {
   "cell_type": "markdown",
   "metadata": {},
   "source": [
    "# Linear Regression"
   ]
  },
  {
   "cell_type": "code",
   "execution_count": 23,
   "metadata": {},
   "outputs": [],
   "source": [
    "C = 1e-3\n",
    "\n",
    "if n_labels == 2:\n",
    "    logreg = linear_model.LogisticRegression(C=C,solver='lbfgs')\n",
    "else:\n",
    "    logreg = linear_model.LogisticRegression(C=C,solver='sag', multi_class='multinomial')\n",
    "model = logreg.fit(X_train,Y_train)"
   ]
  },
  {
   "cell_type": "code",
   "execution_count": 31,
   "metadata": {},
   "outputs": [
    {
     "data": {
      "text/plain": [
       "0.45116666666666666"
      ]
     },
     "execution_count": 31,
     "metadata": {},
     "output_type": "execute_result"
    }
   ],
   "source": [
    "logreg.score(X_valid,Y_valid)"
   ]
  },
  {
   "cell_type": "code",
   "execution_count": 25,
   "metadata": {},
   "outputs": [],
   "source": [
    "predictions = logreg.predict(X_valid)"
   ]
  },
  {
   "cell_type": "code",
   "execution_count": 26,
   "metadata": {},
   "outputs": [
    {
     "name": "stdout",
     "output_type": "stream",
     "text": [
      "Confusion matrix, without normalization\n"
     ]
    },
    {
     "data": {
      "image/png": "[encoded data removed]",
      "text/plain": [
       "<Figure size 432x288 with 2 Axes>"
      ]
     },
     "metadata": {
      "needs_background": "light"
     },
     "output_type": "display_data"
    },
    {
     "name": "stdout",
     "output_type": "stream",
     "text": [
      "Normalized confusion matrix\n"
     ]
    },
    {
     "data": {
      "image/png": "[encoded data removed]",
      "text/plain": [
       "<Figure size 432x288 with 2 Axes>"
      ]
     },
     "metadata": {
      "needs_background": "light"
     },
     "output_type": "display_data"
    }
   ],
   "source": [
    "if n_labels == 2:\n",
    "    class_names = [-1, 1]\n",
    "elif n_labels == 3:\n",
    "    class_names = [-1, 0, 1]\n",
    "else:\n",
    "    class_names = []\n",
    "\n",
    "np.set_printoptions(precision=2)\n",
    "\n",
    "# Plot non-normalized confusion matrix\n",
    "plot_confusion_matrix(Y_valid, predictions, classes=class_names,\n",
    "                      title='Confusion matrix, without normalization')\n",
    "\n",
    "# Plot normalized confusion matrix\n",
    "plot_confusion_matrix(Y_valid, predictions, classes=class_names, normalize=True,\n",
    "                      title='Normalized confusion matrix')"
   ]
  },
  {
   "cell_type": "markdown",
   "metadata": {},
   "source": [
    "# Random Forest"
   ]
  },
  {
   "cell_type": "code",
   "execution_count": 27,
   "metadata": {},
   "outputs": [
    {
     "data": {
      "text/plain": [
       "RandomForestClassifier(bootstrap=True, class_weight=None, criterion='gini',\n",
       "            max_depth=None, max_features='auto', max_leaf_nodes=None,\n",
       "            min_impurity_decrease=0.0, min_impurity_split=None,\n",
       "            min_samples_leaf=1, min_samples_split=2,\n",
       "            min_weight_fraction_leaf=0.0, n_estimators=100, n_jobs=None,\n",
       "            oob_score=False, random_state=None, verbose=0,\n",
       "            warm_start=False)"
      ]
     },
     "execution_count": 27,
     "metadata": {},
     "output_type": "execute_result"
    }
   ],
   "source": [
    "#Create a Gaussian Classifier\n",
    "clf=RandomForestClassifier(n_estimators=100)\n",
    "\n",
    "clf.fit(X_train,Y_train)"
   ]
  },
  {
   "cell_type": "code",
   "execution_count": 28,
   "metadata": {},
   "outputs": [
    {
     "data": {
      "text/plain": [
       "0.8873333333333333"
      ]
     },
     "execution_count": 28,
     "metadata": {},
     "output_type": "execute_result"
    }
   ],
   "source": [
    "clf.score(X_valid, Y_valid)"
   ]
  },
  {
   "cell_type": "code",
   "execution_count": 29,
   "metadata": {},
   "outputs": [],
   "source": [
    "predictions=clf.predict(X_valid)"
   ]
  },
  {
   "cell_type": "code",
   "execution_count": 30,
   "metadata": {},
   "outputs": [
    {
     "name": "stdout",
     "output_type": "stream",
     "text": [
      "Confusion matrix, without normalization\n"
     ]
    },
    {
     "data": {
      "image/png": "[encoded data removed]",
      "text/plain": [
       "<Figure size 432x288 with 2 Axes>"
      ]
     },
     "metadata": {
      "needs_background": "light"
     },
     "output_type": "display_data"
    },
    {
     "name": "stdout",
     "output_type": "stream",
     "text": [
      "Normalized confusion matrix\n"
     ]
    },
    {
     "data": {
      "image/png": "[encoded data removed]",
      "text/plain": [
       "<Figure size 432x288 with 2 Axes>"
      ]
     },
     "metadata": {
      "needs_background": "light"
     },
     "output_type": "display_data"
    }
   ],
   "source": [
    "if n_labels == 2:\n",
    "    class_names = [-1, 1]\n",
    "elif n_labels == 3:\n",
    "    class_names = [-1, 0, 1]\n",
    "else:\n",
    "    class_names = []\n",
    "\n",
    "np.set_printoptions(precision=2)\n",
    "\n",
    "# Plot non-normalized confusion matrix\n",
    "plot_confusion_matrix(Y_valid, predictions, classes=class_names,\n",
    "                      title='Confusion matrix, without normalization')\n",
    "\n",
    "# Plot normalized confusion matrix\n",
    "plot_confusion_matrix(Y_valid, predictions, classes=class_names, normalize=True,\n",
    "                      title='Normalized confusion matrix')"
   ]
  },
  {
   "cell_type": "code",
   "execution_count": null,
   "metadata": {},
   "outputs": [],
   "source": []
  }
 ],
 "metadata": {
  "kernelspec": {
   "display_name": "Python 3",
   "language": "python",
   "name": "python3"
  },
  "language_info": {
   "codemirror_mode": {
    "name": "ipython",
    "version": 3
   },
   "file_extension": ".py",
   "mimetype": "text/x-python",
   "name": "python",
   "nbconvert_exporter": "python",
   "pygments_lexer": "ipython3",
   "version": "3.6.6"
  }
 },
 "nbformat": 4,
 "nbformat_minor": 2
}
