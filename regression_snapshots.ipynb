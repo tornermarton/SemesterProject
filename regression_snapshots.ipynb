{
 "cells": [
  {
   "cell_type": "code",
   "execution_count": 1,
   "metadata": {},
   "outputs": [],
   "source": [
    "import numpy as np\n",
    "\n",
    "from sklearn import linear_model\n",
    "from sklearn.preprocessing import StandardScaler\n",
    "from sklearn.ensemble import RandomForestClassifier\n",
    "\n",
    "import time\n",
    "import math\n",
    "import os\n",
    "\n",
    "from IPython.display import display\n",
    "\n",
    "import matplotlib.pyplot as plt\n",
    "%matplotlib inline\n",
    "\n",
    "# functions to calculate WAMP, VWAP, etc. and display plots\n",
    "from functions.market.features import *\n",
    "from functions.preprocessing import *\n",
    "from functions.evaluation import *"
   ]
  },
  {
   "cell_type": "code",
   "execution_count": 83,
   "metadata": {},
   "outputs": [],
   "source": [
    "np.random.seed(1234)\n",
    "# set_random_seed(1234)\n",
    "np.set_printoptions(precision=2)\n",
    "\n",
    "data_root_dir = \"data/kraken/\"\n",
    "n_asset_pairs = 1\n",
    "n_ss_per_file = 1440\n",
    "lob_depth = 30\n",
    "ss_shape = (2*lob_depth, 3)"
   ]
  },
  {
   "cell_type": "code",
   "execution_count": 84,
   "metadata": {},
   "outputs": [
    {
     "name": "stdout",
     "output_type": "stream",
     "text": [
      "30 update files read.\n",
      "30 snapshot files read.\n",
      "30 days of data is collected.\n"
     ]
    }
   ],
   "source": [
    "updates_file_list, snapshots_file_list = read_file_list(data_root_dir=data_root_dir, verbose=True)\n",
    "\n",
    "n_files = len(snapshots_file_list)\n",
    "n_days = int(n_files / n_asset_pairs)\n",
    "\n",
    "print(n_days, \"days of data is collected.\")"
   ]
  },
  {
   "cell_type": "markdown",
   "metadata": {},
   "source": [
    "# Dataprep"
   ]
  },
  {
   "cell_type": "code",
   "execution_count": 177,
   "metadata": {},
   "outputs": [],
   "source": [
    "alpha = 5\n",
    "delay = 50\n",
    "n_labels = 3\n",
    "\n",
    "if n_labels == 2:\n",
    "    class_names = [-1, 1]\n",
    "elif n_labels == 3:\n",
    "    class_names = [-1, 0, 1]\n",
    "else:\n",
    "    class_names = []"
   ]
  },
  {
   "cell_type": "code",
   "execution_count": 178,
   "metadata": {},
   "outputs": [],
   "source": [
    "dataset = np.zeros([n_files*n_ss_per_file], \n",
    "                   dtype=[('snapshot', np.float32, ss_shape), ('rel_prices', np.float32, 2*lob_depth), ('timestamp', np.float32, 1), ('wamp', np.float32, 1),('label', int, 1)])\n",
    "\n",
    "global_cnt = 0\n",
    "\n",
    "for i in range(n_asset_pairs):\n",
    "    asset_pair_cnt = 0\n",
    "    \n",
    "    for j in range(n_days):\n",
    "        data = np.loadtxt(snapshots_file_list[i*n_days+j], delimiter=',')\n",
    "        \n",
    "        for j, ss in enumerate(data):\n",
    "            snapshot = ss[:-1].reshape(-1, 3)\n",
    "            timestamp = ss[-1]\n",
    "            wamp = calc_WAMP(ss)\n",
    "\n",
    "            dataset[global_cnt][\"snapshot\"] = np.concatenate((\n",
    "                snapshot[0:lob_depth], \n",
    "                snapshot[100:100+lob_depth]\n",
    "            ))\n",
    "            dataset[global_cnt][\"rel_prices\"] = [price / wamp for price in dataset[global_cnt][\"snapshot\"][:,0]]\n",
    "            dataset[global_cnt][\"timestamp\"] = timestamp\n",
    "            dataset[global_cnt][\"wamp\"] = wamp\n",
    "\n",
    "            # calculate label for the last snapshot for which enough data is provided with this snapshot\n",
    "            if asset_pair_cnt >= delay:\n",
    "                mean = np.mean(dataset[\"wamp\"][global_cnt-delay+1:global_cnt+1])\n",
    "                act_wamp = dataset[\"wamp\"][global_cnt-delay]\n",
    "                \n",
    "                spread = calc_spread(dataset[\"snapshot\"][global_cnt-delay].flatten(), lob_depth)\n",
    "                \n",
    "                if n_labels == 2:\n",
    "                    dataset[global_cnt-delay][\"label\"] = generate_binary_label(\n",
    "                        wamp=act_wamp,\n",
    "                        future_wamp_mean=mean,\n",
    "                    )\n",
    "                elif n_labels == 3:\n",
    "                    dataset[global_cnt-delay][\"label\"] = generate_trinary_label(\n",
    "                        wamp=act_wamp,\n",
    "                        future_wamp_mean=mean,\n",
    "                        spread=spread,\n",
    "                        alpha=alpha\n",
    "                    )\n",
    "                else:\n",
    "                    raise AttributeError()\n",
    "                    \n",
    "            asset_pair_cnt += 1\n",
    "            global_cnt += 1\n",
    "            \n",
    "    # set back global_cnt to overwrite not labeled data (last delay number of elements)\n",
    "    global_cnt = global_cnt-delay\n",
    "\n",
    "dataset = dataset[:global_cnt]"
   ]
  },
  {
   "cell_type": "code",
   "execution_count": 166,
   "metadata": {},
   "outputs": [
    {
     "data": {
      "text/plain": [
       "42817"
      ]
     },
     "execution_count": 166,
     "metadata": {},
     "output_type": "execute_result"
    }
   ],
   "source": [
    "len(dataset)"
   ]
  },
  {
   "cell_type": "code",
   "execution_count": 167,
   "metadata": {},
   "outputs": [
    {
     "name": "stdout",
     "output_type": "stream",
     "text": [
      "UP labels: 21861 \t 51.056823224420214%\n",
      "NO_MOVE labels: 0 \t 0.0%\n",
      "DOWN labels: 20956 \t 48.94317677557979%\n"
     ]
    }
   ],
   "source": [
    "count_labels(dataset)"
   ]
  },
  {
   "cell_type": "code",
   "execution_count": 168,
   "metadata": {},
   "outputs": [
    {
     "data": {
      "image/png": "[encoded data removed]",
      "text/plain": [
       "<Figure size 432x288 with 1 Axes>"
      ]
     },
     "metadata": {
      "needs_background": "light"
     },
     "output_type": "display_data"
    }
   ],
   "source": [
    "from functions.market.plots import plot_labels\n",
    "\n",
    "plot_labels(dataset[::20][\"wamp\"], dataset[::20][\"label\"])"
   ]
  },
  {
   "cell_type": "code",
   "execution_count": 90,
   "metadata": {},
   "outputs": [],
   "source": [
    "ups = dataset[np.where(dataset[\"label\"] == 1)]\n",
    "nomoves = dataset[np.where(dataset[\"label\"] == 0)]\n",
    "downs = dataset[np.where(dataset[\"label\"] == -1)]"
   ]
  },
  {
   "cell_type": "code",
   "execution_count": 100,
   "metadata": {},
   "outputs": [],
   "source": [
    "nb_samples = len(dataset)\n",
    "\n",
    "n_samples_per_label = 10000\n",
    "\n",
    "test_split = 0.2"
   ]
  },
  {
   "cell_type": "code",
   "execution_count": 101,
   "metadata": {},
   "outputs": [],
   "source": [
    "# train-test-test split\n",
    "train = np.concatenate(\n",
    "    (ups[0:int(n_samples_per_label*(1-test_split))], \n",
    "     nomoves[0:int(n_samples_per_label*(1-test_split))], \n",
    "     downs[0:int(n_samples_per_label*(1-test_split))])\n",
    ")\n",
    "\n",
    "test = np.concatenate(\n",
    "    (ups[int(n_samples_per_label*(1-test_split)):n_samples_per_label], \n",
    "     nomoves[int(n_samples_per_label*(1-test_split)):n_samples_per_label], \n",
    "     downs[int(n_samples_per_label*(1-test_split)):n_samples_per_label])\n",
    ")\n",
    "\n",
    "np.random.shuffle(train)\n",
    "np.random.shuffle(test)\n",
    "\n",
    "# input, select prices only\n",
    "X_train = train['snapshot'][:,:,0:2]\n",
    "X_test = test['snapshot'][:,:,0:2]\n",
    "\n",
    "#X_train = train['rel_prices']\n",
    "#X_test = test['rel_prices'] \n",
    "\n",
    "# reshape\n",
    "X_train = X_train.reshape(-1, 2*lob_depth*2)\n",
    "X_test = X_test.reshape(-1, 2*lob_depth*2)\n",
    "\n",
    "# output\n",
    "Y_train = train['label']\n",
    "Y_test = test['label']"
   ]
  },
  {
   "cell_type": "code",
   "execution_count": 102,
   "metadata": {},
   "outputs": [
    {
     "name": "stdout",
     "output_type": "stream",
     "text": [
      "UP labels: 8000 \t 33.33333333333333%\n",
      "NO_MOVE labels: 8000 \t 33.33333333333333%\n",
      "DOWN labels: 8000 \t 33.33333333333333%\n"
     ]
    }
   ],
   "source": [
    "# number of labels in train set\n",
    "\n",
    "count_labels(train)"
   ]
  },
  {
   "cell_type": "code",
   "execution_count": 103,
   "metadata": {},
   "outputs": [
    {
     "name": "stdout",
     "output_type": "stream",
     "text": [
      "UP labels: 2000 \t 33.33333333333333%\n",
      "NO_MOVE labels: 2000 \t 33.33333333333333%\n",
      "DOWN labels: 2000 \t 33.33333333333333%\n"
     ]
    }
   ],
   "source": [
    "# number of labels in test set\n",
    "\n",
    "count_labels(test)"
   ]
  },
  {
   "cell_type": "code",
   "execution_count": 104,
   "metadata": {
    "scrolled": false
   },
   "outputs": [
    {
     "name": "stdout",
     "output_type": "stream",
     "text": [
      "(24000, 120)\n",
      "(6000, 120)\n"
     ]
    }
   ],
   "source": [
    "print(X_train.shape)\n",
    "print(X_test.shape)"
   ]
  },
  {
   "cell_type": "code",
   "execution_count": 105,
   "metadata": {},
   "outputs": [],
   "source": [
    "# standard scaling\n",
    "scaler = StandardScaler().fit(X_train)\n",
    "X_train = scaler.transform(X_train)\n",
    "X_test = scaler.transform(X_test)"
   ]
  },
  {
   "cell_type": "markdown",
   "metadata": {},
   "source": [
    "# Linear Regression"
   ]
  },
  {
   "cell_type": "code",
   "execution_count": null,
   "metadata": {},
   "outputs": [],
   "source": [
    "C = 1e-3\n",
    "\n",
    "if n_labels == 2:\n",
    "    logreg = linear_model.LogisticRegression(C=C,solver='lbfgs')\n",
    "else:\n",
    "    logreg = linear_model.LogisticRegression(C=C,solver='saga', multi_class='multinomial', max_iter=10000, n_jobs=-1)\n",
    "\n",
    "logreg.fit(X_train,Y_train)"
   ]
  },
  {
   "cell_type": "code",
   "execution_count": null,
   "metadata": {},
   "outputs": [],
   "source": [
    "logreg.score(X_test,Y_test)"
   ]
  },
  {
   "cell_type": "code",
   "execution_count": null,
   "metadata": {},
   "outputs": [],
   "source": [
    "predictions = logreg.predict(X_test)"
   ]
  },
  {
   "cell_type": "code",
   "execution_count": null,
   "metadata": {},
   "outputs": [],
   "source": [
    "# Plot non-normalized confusion matrix\n",
    "plot_confusion_matrix(Y_test, predictions, classes=class_names,\n",
    "                      title='Confusion matrix, without normalization')\n",
    "\n",
    "# Plot normalized confusion matrix\n",
    "plot_confusion_matrix(Y_test, predictions, classes=class_names, normalize=True,\n",
    "                      title='Normalized confusion matrix')"
   ]
  },
  {
   "cell_type": "markdown",
   "metadata": {},
   "source": [
    "# Random Forest"
   ]
  },
  {
   "cell_type": "code",
   "execution_count": 106,
   "metadata": {},
   "outputs": [
    {
     "data": {
      "text/plain": [
       "RandomForestClassifier(bootstrap=True, class_weight=None, criterion='gini',\n",
       "            max_depth=None, max_features='auto', max_leaf_nodes=None,\n",
       "            min_impurity_decrease=0.0, min_impurity_split=None,\n",
       "            min_samples_leaf=1, min_samples_split=2,\n",
       "            min_weight_fraction_leaf=0.0, n_estimators=128, n_jobs=None,\n",
       "            oob_score=False, random_state=42, verbose=0, warm_start=False)"
      ]
     },
     "execution_count": 106,
     "metadata": {},
     "output_type": "execute_result"
    }
   ],
   "source": [
    "#Create a Gaussian Classifier\n",
    "clf = RandomForestClassifier(n_estimators = 128, random_state = 42)\n",
    "\n",
    "clf.fit(X_train,Y_train)"
   ]
  },
  {
   "cell_type": "code",
   "execution_count": 107,
   "metadata": {},
   "outputs": [
    {
     "name": "stdout",
     "output_type": "stream",
     "text": [
      "R^2 score: 0.4405\n"
     ]
    }
   ],
   "source": [
    "predictions=clf.predict(X_test)\n",
    "\n",
    "print(\"R^2 score:\", clf.score(X_test, Y_test))"
   ]
  },
  {
   "cell_type": "code",
   "execution_count": 108,
   "metadata": {},
   "outputs": [
    {
     "name": "stdout",
     "output_type": "stream",
     "text": [
      "Confusion matrix, without normalization\n"
     ]
    },
    {
     "data": {
      "image/png": "[encoded data removed]",
      "text/plain": [
       "<Figure size 432x288 with 2 Axes>"
      ]
     },
     "metadata": {
      "needs_background": "light"
     },
     "output_type": "display_data"
    },
    {
     "name": "stdout",
     "output_type": "stream",
     "text": [
      "Normalized confusion matrix\n"
     ]
    },
    {
     "data": {
      "image/png": "[encoded data removed]",
      "text/plain": [
       "<Figure size 432x288 with 2 Axes>"
      ]
     },
     "metadata": {
      "needs_background": "light"
     },
     "output_type": "display_data"
    }
   ],
   "source": [
    "# Plot non-normalized confusion matrix\n",
    "plot_confusion_matrix(Y_test, predictions, classes=class_names,\n",
    "                      title='Confusion matrix, without normalization')\n",
    "\n",
    "# Plot normalized confusion matrix\n",
    "plot_confusion_matrix(Y_test, predictions, classes=class_names, normalize=True,\n",
    "                      title='Normalized confusion matrix')"
   ]
  },
  {
   "cell_type": "markdown",
   "metadata": {},
   "source": [
    "# Predict based on history"
   ]
  },
  {
   "cell_type": "code",
   "execution_count": 179,
   "metadata": {},
   "outputs": [],
   "source": [
    "history_len = 100\n",
    "alpha = 0.01\n",
    "\n",
    "predictions = np.zeros([len(dataset)-history_len], dtype=[(\"label\", int, 1)])\n",
    "\n",
    "# make predictions\n",
    "for i in range(len(dataset)-history_len):\n",
    "    mean = np.mean(dataset[\"wamp\"][i:i+history_len])\n",
    "    act_wamp = dataset[\"wamp\"][i+history_len]\n",
    "    spread = calc_spread(dataset[i+history_len][\"snapshot\"].flatten(), lob_depth)\n",
    "    \n",
    "    threshold = act_wamp * alpha\n",
    "    \n",
    "    if n_labels == 2:\n",
    "        if mean < wamp:\n",
    "            predictions[i] = 1\n",
    "        else:\n",
    "            predictions[i] = -1\n",
    "    \n",
    "    elif n_labels == 3:\n",
    "        if mean - wamp < -(threshold):\n",
    "            predictions[i] = 1\n",
    "        elif mean - wamp > threshold:\n",
    "            predictions[i] = -1\n",
    "        else:\n",
    "            predictions[i] = 0\n",
    "    else:\n",
    "        raise AttributeError()"
   ]
  },
  {
   "cell_type": "code",
   "execution_count": 180,
   "metadata": {
    "scrolled": true
   },
   "outputs": [
    {
     "name": "stdout",
     "output_type": "stream",
     "text": [
      "UP labels: 11621 \t 27.204625793009807%\n",
      "NO_MOVE labels: 20402 \t 47.76084462860219%\n",
      "DOWN labels: 10694 \t 25.034529578387993%\n"
     ]
    }
   ],
   "source": [
    "count_labels(dataset[history_len:])"
   ]
  },
  {
   "cell_type": "code",
   "execution_count": 181,
   "metadata": {},
   "outputs": [
    {
     "name": "stdout",
     "output_type": "stream",
     "text": [
      "UP labels: 28386 \t 66.45129573706019%\n",
      "NO_MOVE labels: 5688 \t 13.315541821757146%\n",
      "DOWN labels: 8643 \t 20.233162441182667%\n"
     ]
    }
   ],
   "source": [
    "count_labels(predictions)"
   ]
  },
  {
   "cell_type": "code",
   "execution_count": 182,
   "metadata": {},
   "outputs": [
    {
     "name": "stdout",
     "output_type": "stream",
     "text": [
      "Confusion matrix, without normalization\n"
     ]
    },
    {
     "data": {
      "image/png": "[encoded data removed]",
      "text/plain": [
       "<Figure size 432x288 with 2 Axes>"
      ]
     },
     "metadata": {
      "needs_background": "light"
     },
     "output_type": "display_data"
    },
    {
     "name": "stdout",
     "output_type": "stream",
     "text": [
      "Normalized confusion matrix\n"
     ]
    },
    {
     "data": {
      "image/png": "[encoded data removed]",
      "text/plain": [
       "<Figure size 432x288 with 2 Axes>"
      ]
     },
     "metadata": {
      "needs_background": "light"
     },
     "output_type": "display_data"
    }
   ],
   "source": [
    "# Plot non-normalized confusion matrix\n",
    "plot_confusion_matrix(dataset[\"label\"][history_len:], predictions[\"label\"], classes=class_names,\n",
    "                      title='Confusion matrix, without normalization')\n",
    "\n",
    "# Plot normalized confusion matrix\n",
    "plot_confusion_matrix(dataset[\"label\"][history_len:], predictions[\"label\"], classes=class_names, normalize=True,\n",
    "                      title='Normalized confusion matrix')"
   ]
  },
  {
   "cell_type": "code",
   "execution_count": null,
   "metadata": {},
   "outputs": [],
   "source": []
  }
 ],
 "metadata": {
  "kernelspec": {
   "display_name": "Python 3",
   "language": "python",
   "name": "python3"
  },
  "language_info": {
   "codemirror_mode": {
    "name": "ipython",
    "version": 3
   },
   "file_extension": ".py",
   "mimetype": "text/x-python",
   "name": "python",
   "nbconvert_exporter": "python",
   "pygments_lexer": "ipython3",
   "version": "3.6.6"
  }
 },
 "nbformat": 4,
 "nbformat_minor": 2
}
