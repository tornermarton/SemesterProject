{
 "cells": [
  {
   "cell_type": "code",
   "execution_count": 1,
   "metadata": {
    "colab": {},
    "colab_type": "code",
    "id": "9aRezpGg3cNZ"
   },
   "outputs": [
    {
     "name": "stderr",
     "output_type": "stream",
     "text": [
      "Using TensorFlow backend.\n"
     ]
    }
   ],
   "source": [
    "import numpy as np\n",
    "\n",
    "from sklearn.model_selection import train_test_split\n",
    "from sklearn.preprocessing import StandardScaler\n",
    "\n",
    "import time\n",
    "import math\n",
    "import os\n",
    "import gzip\n",
    "\n",
    "from IPython.display import display\n",
    "\n",
    "import matplotlib.pyplot as plt\n",
    "%matplotlib inline\n",
    "\n",
    "# keras\n",
    "from keras.models import Model, load_model\n",
    "from keras.callbacks import EarlyStopping, ModelCheckpoint, CSVLogger\n",
    "from keras.optimizers import Adam\n",
    "from keras.layers import Input, LSTM, Flatten, Dense, Dropout, TimeDistributed, Conv1D\n",
    "from keras.utils import np_utils\n",
    "\n",
    "from tensorflow import set_random_seed\n",
    "\n",
    "# functions to calculate WAMP, VWAP, etc. and display plots\n",
    "from functions.market.features import *\n",
    "from functions.market.plots import *\n",
    "from functions.preprocessing import *\n",
    "from functions.evaluation import *"
   ]
  },
  {
   "cell_type": "code",
   "execution_count": 2,
   "metadata": {
    "colab": {},
    "colab_type": "code",
    "id": "xo0JzM3x3cNf"
   },
   "outputs": [],
   "source": [
    "np.random.seed(1234)\n",
    "set_random_seed(1234)"
   ]
  },
  {
   "cell_type": "code",
   "execution_count": 3,
   "metadata": {
    "colab": {},
    "colab_type": "code",
    "id": "CJ9i6P0Y3cNi"
   },
   "outputs": [],
   "source": [
    "n_labels = 3\n",
    "\n",
    "if n_labels == 2:\n",
    "    class_names = [-1, 1]\n",
    "elif n_labels == 3:\n",
    "    class_names = [-1, 0, 1]\n",
    "else:\n",
    "    class_names = []"
   ]
  },
  {
   "cell_type": "code",
   "execution_count": 4,
   "metadata": {
    "colab": {
     "base_uri": "https://localhost:8080/",
     "height": 649
    },
    "colab_type": "code",
    "id": "j9X4Z-T83cNl",
    "outputId": "a83d2412-57e7-4973-e0f6-b1dc7a669c7b"
   },
   "outputs": [
    {
     "name": "stdout",
     "output_type": "stream",
     "text": [
      "Dataset size: 37440\n",
      "Depth: 20\n",
      "Label distribution in the whole dataset:\n",
      "UP labels: 12667 \t 33.83279914529915%\n",
      "NO_MOVE labels: 12801 \t 34.19070512820513%\n",
      "DOWN labels: 11972 \t 31.976495726495724%\n"
     ]
    },
    {
     "data": {
      "image/png": "[encoded data removed]",
      "text/plain": [
       "<Figure size 432x288 with 1 Axes>"
      ]
     },
     "metadata": {
      "needs_background": "light"
     },
     "output_type": "display_data"
    },
    {
     "data": {
      "image/png": "[encoded data removed]",
      "text/plain": [
       "<Figure size 432x288 with 1 Axes>"
      ]
     },
     "metadata": {
      "needs_background": "light"
     },
     "output_type": "display_data"
    }
   ],
   "source": [
    "with gzip.GzipFile(\"data/kraken/eth_eur_d20_lw30_sw4320_l3.npy.gz\", \"r\") as file:\n",
    "    data = np.load(file)\n",
    "    \n",
    "lob_depth = int(len(data[\"snapshot\"][0])/2)\n",
    "\n",
    "print(\"Dataset size:\", len(data))\n",
    "print(\"Depth:\", lob_depth)\n",
    "\n",
    "print(\"Label distribution in the whole dataset:\")\n",
    "count_labels(data[\"label\"])\n",
    "\n",
    "plt.hist(data[\"vwap\"], bins=200)\n",
    "plot_labels(data[\"vwap\"][:500], data[\"label\"][:500])\n",
    "plt.show()"
   ]
  },
  {
   "cell_type": "markdown",
   "metadata": {
    "colab_type": "text",
    "id": "68Oe_jo43cNp"
   },
   "source": [
    "# DATA PREPARATION"
   ]
  },
  {
   "cell_type": "markdown",
   "metadata": {
    "colab_type": "text",
    "id": "5mULOC8f3cNp"
   },
   "source": [
    "## Timestep sampling"
   ]
  },
  {
   "cell_type": "code",
   "execution_count": 5,
   "metadata": {
    "colab": {},
    "colab_type": "code",
    "id": "RHb_7Wit3cNq"
   },
   "outputs": [],
   "source": [
    "timestep = 100\n",
    "\n",
    "input_shape = (timestep, 2*lob_depth*2)\n",
    "\n",
    "dataset = np.zeros([len(data)-timestep], dtype=[('input', np.float32, input_shape), ('label', int, 1)])\n",
    "\n",
    "for i in range(0, len(dataset)):\n",
    "    dataset[\"label\"][i] = data[\"label\"][i+timestep-1]    \n",
    "    dataset[\"input\"][i] = data[\"snapshot\"][i:i+timestep,:,0:2].reshape(-1, 2*lob_depth*2)"
   ]
  },
  {
   "cell_type": "code",
   "execution_count": 6,
   "metadata": {
    "colab": {
     "base_uri": "https://localhost:8080/",
     "height": 34
    },
    "colab_type": "code",
    "id": "MgN1f2UR3cNs",
    "outputId": "526f1936-0fae-488e-d7c4-88a01ceb3697"
   },
   "outputs": [
    {
     "data": {
      "text/plain": [
       "37340"
      ]
     },
     "execution_count": 6,
     "metadata": {},
     "output_type": "execute_result"
    }
   ],
   "source": [
    "len(dataset)"
   ]
  },
  {
   "cell_type": "code",
   "execution_count": 7,
   "metadata": {
    "colab": {
     "base_uri": "https://localhost:8080/",
     "height": 34
    },
    "colab_type": "code",
    "id": "Bnhe0bT63cNv",
    "outputId": "03d74861-bc64-4820-89fe-57c202bb4594"
   },
   "outputs": [
    {
     "data": {
      "text/plain": [
       "(100, 80)"
      ]
     },
     "execution_count": 7,
     "metadata": {},
     "output_type": "execute_result"
    }
   ],
   "source": [
    "dataset[\"input\"][0].shape"
   ]
  },
  {
   "cell_type": "code",
   "execution_count": 8,
   "metadata": {
    "colab": {
     "base_uri": "https://localhost:8080/",
     "height": 238
    },
    "colab_type": "code",
    "id": "6JT7G3ig3cNx",
    "outputId": "af0c6703-39db-43b7-c8a4-ca501e53f376"
   },
   "outputs": [
    {
     "data": {
      "text/plain": [
       "array([[0.48748952, 2.09832   , 0.49165833, ..., 0.8274785 , 0.8542668 ,\n",
       "        0.91465044],\n",
       "       [0.5291679 , 2.009497  , 0.5458399 , ..., 1.2686731 , 0.8751044 ,\n",
       "        1.2773902 ],\n",
       "       [0.59585583, 1.1506423 , 0.60002464, ..., 0.5886412 , 1.029318  ,\n",
       "        0.5894974 ],\n",
       "       ...,\n",
       "       [0.675047  , 1.604599  , 0.6833814 , ..., 1.1863217 , 1.091837  ,\n",
       "        1.2649857 ],\n",
       "       [0.60835904, 0.85078657, 0.62086225, ..., 0.86171263, 1.0043083 ,\n",
       "        0.9488846 ],\n",
       "       [0.641703  , 0.37862498, 0.6458718 , ..., 0.4028152 , 1.012646  ,\n",
       "        0.6301596 ]], dtype=float32)"
      ]
     },
     "execution_count": 8,
     "metadata": {},
     "output_type": "execute_result"
    }
   ],
   "source": [
    "dataset[\"input\"][0]"
   ]
  },
  {
   "cell_type": "code",
   "execution_count": 9,
   "metadata": {
    "colab": {
     "base_uri": "https://localhost:8080/",
     "height": 34
    },
    "colab_type": "code",
    "id": "rnToYGzj3cN0",
    "outputId": "e21ac0cb-601d-410b-c5da-6be108c627cf"
   },
   "outputs": [
    {
     "data": {
      "text/plain": [
       "(37340,)"
      ]
     },
     "execution_count": 9,
     "metadata": {},
     "output_type": "execute_result"
    }
   ],
   "source": [
    "dataset[\"label\"].shape"
   ]
  },
  {
   "cell_type": "markdown",
   "metadata": {
    "colab_type": "text",
    "id": "zqoJyeua3cN3"
   },
   "source": [
    "## Train-validation-test split and shuffle"
   ]
  },
  {
   "cell_type": "code",
   "execution_count": 10,
   "metadata": {
    "colab": {},
    "colab_type": "code",
    "id": "YpgyYtGN3cN5"
   },
   "outputs": [],
   "source": [
    "tmp, test = train_test_split(dataset, test_size=0.1, random_state=42, shuffle = False, stratify = None)\n",
    "train, validation = train_test_split(tmp, test_size=0.2, random_state=42, shuffle = False, stratify = None)"
   ]
  },
  {
   "cell_type": "code",
   "execution_count": 11,
   "metadata": {
    "colab": {},
    "colab_type": "code",
    "id": "gQCexZvK3cN6"
   },
   "outputs": [],
   "source": [
    "# shuffle (only after splitting!!!)\n",
    "np.random.shuffle(train)\n",
    "np.random.shuffle(validation)\n",
    "np.random.shuffle(test)"
   ]
  },
  {
   "cell_type": "code",
   "execution_count": 12,
   "metadata": {
    "colab": {
     "base_uri": "https://localhost:8080/",
     "height": 306
    },
    "colab_type": "code",
    "id": "osoBYXWr3cN7",
    "outputId": "38293194-7aae-4995-bdfa-c2bb7427fd25"
   },
   "outputs": [
    {
     "name": "stdout",
     "output_type": "stream",
     "text": [
      "Train shape: (26884, 100, 80)\n",
      "Label distribution in train set:\n",
      "UP labels: 9280 \t 34.51867281654516%\n",
      "NO_MOVE labels: 9060 \t 33.70034221098051%\n",
      "DOWN labels: 8544 \t 31.780984972474336%\n",
      "\n",
      "Validation shape: (6722, 100, 80)\n",
      "Label distribution in train set:\n",
      "UP labels: 2299 \t 34.20113061588813%\n",
      "NO_MOVE labels: 2366 \t 35.197857780422495%\n",
      "DOWN labels: 2057 \t 30.601011603689376%\n",
      "\n",
      "Test shape: (3734, 100, 80)\n",
      "Label distribution in test set:\n",
      "UP labels: 1057 \t 28.307445099089453%\n",
      "NO_MOVE labels: 1341 \t 35.91322978039636%\n",
      "DOWN labels: 1336 \t 35.779325120514194%\n"
     ]
    }
   ],
   "source": [
    "# input\n",
    "X_train = train['input']\n",
    "X_validation = validation['input']\n",
    "X_test = test['input']\n",
    "\n",
    "# output\n",
    "Y_train = train['label']\n",
    "Y_validation = validation['label']\n",
    "Y_test = test['label']\n",
    "\n",
    "print(\"Train shape:\", X_train.shape)\n",
    "print(\"Label distribution in train set:\")\n",
    "count_labels(Y_train)\n",
    "\n",
    "print()\n",
    "\n",
    "print(\"Validation shape:\", X_validation.shape)\n",
    "print(\"Label distribution in train set:\")\n",
    "count_labels(Y_validation)\n",
    "\n",
    "print()\n",
    "\n",
    "print(\"Test shape:\", X_test.shape)\n",
    "print(\"Label distribution in test set:\")\n",
    "count_labels(Y_test)\n",
    "\n",
    "# one hot encoding\n",
    "Y_train = np_utils.to_categorical(Y_train, n_labels)\n",
    "Y_validation = np_utils.to_categorical(Y_validation, n_labels)\n",
    "Y_test = np_utils.to_categorical(Y_test, n_labels)"
   ]
  },
  {
   "cell_type": "markdown",
   "metadata": {
    "colab_type": "text",
    "id": "Ozi77xYt3cN9"
   },
   "source": [
    "# Neural network"
   ]
  },
  {
   "cell_type": "code",
   "execution_count": 13,
   "metadata": {
    "colab": {},
    "colab_type": "code",
    "id": "yVyMNEhM3cN9"
   },
   "outputs": [],
   "source": [
    "def plot_history(network_history):\n",
    "    \n",
    "    #set pltting attributes\n",
    "    #loss-epochs\n",
    "    plt.figure()\n",
    "    plt.xlabel('Epochs')\n",
    "    plt.ylabel('Loss')\n",
    "    plt.plot(network_history.history['loss'])\n",
    "    plt.plot(network_history.history['val_loss'])\n",
    "    plt.legend(['Training', 'Validation'])\n",
    "\n",
    "    #accuracy-epochs\n",
    "    plt.figure()\n",
    "    plt.xlabel('Epochs')\n",
    "    plt.ylabel('Accuracy')\n",
    "    plt.plot(network_history.history['acc'])\n",
    "    plt.plot(network_history.history['val_acc'])\n",
    "    plt.legend(['Training', 'Validation'])\n",
    "    \n",
    "    plt.show()"
   ]
  },
  {
   "cell_type": "code",
   "execution_count": 14,
   "metadata": {
    "colab": {
     "base_uri": "https://localhost:8080/",
     "height": 408
    },
    "colab_type": "code",
    "id": "gG_yi8Kr3cN-",
    "outputId": "e64535e4-ed6e-4ec8-b773-68971a3f98a6"
   },
   "outputs": [
    {
     "name": "stdout",
     "output_type": "stream",
     "text": [
      "_________________________________________________________________\n",
      "Layer (type)                 Output Shape              Param #   \n",
      "=================================================================\n",
      "input_1 (InputLayer)         (None, 100, 80)           0         \n",
      "_________________________________________________________________\n",
      "conv1d_1 (Conv1D)            (None, 50, 32)            5152      \n",
      "_________________________________________________________________\n",
      "lstm_1 (LSTM)                (None, 50, 64)            24832     \n",
      "_________________________________________________________________\n",
      "time_distributed_1 (TimeDist (None, 50, 10)            650       \n",
      "_________________________________________________________________\n",
      "flatten_1 (Flatten)          (None, 500)               0         \n",
      "_________________________________________________________________\n",
      "dense_2 (Dense)              (None, 100)               50100     \n",
      "_________________________________________________________________\n",
      "dropout_1 (Dropout)          (None, 100)               0         \n",
      "_________________________________________________________________\n",
      "dense_3 (Dense)              (None, 3)                 303       \n",
      "=================================================================\n",
      "Total params: 81,037\n",
      "Trainable params: 81,037\n",
      "Non-trainable params: 0\n",
      "_________________________________________________________________\n"
     ]
    }
   ],
   "source": [
    "inputs = Input(shape=X_train[0].shape)\n",
    "\n",
    "conv = Conv1D(filters=32,\n",
    "               kernel_size=2,\n",
    "               strides=2,\n",
    "               activation='relu',\n",
    "               padding='same')(inputs)\n",
    "\n",
    "# inception\n",
    "\n",
    "lstm = LSTM(\n",
    "        64, \n",
    "        dropout=0.4, \n",
    "        recurrent_dropout=0.4,\n",
    "        return_sequences=True)(conv)\n",
    "\n",
    "x = TimeDistributed(Dense(10, activation=\"relu\"))(lstm)\n",
    "\n",
    "x = Flatten()(x)\n",
    "\n",
    "x = Dense(100, activation=\"relu\")(x)\n",
    "x = Dropout(0.2)(x)\n",
    "\n",
    "predictions = Dense(3, activation=\"softmax\")(x)\n",
    "\n",
    "# This creates a model that includes\n",
    "# the Input layer and three Dense layers\n",
    "model = Model(inputs=inputs, outputs=predictions)\n",
    "\n",
    "model.summary()"
   ]
  },
  {
   "cell_type": "code",
   "execution_count": null,
   "metadata": {
    "colab": {},
    "colab_type": "code",
    "id": "Y0WUm0Q13cN_"
   },
   "outputs": [],
   "source": [
    "csv_logger = CSVLogger('history_log.csv', append=True, separator=';')\n",
    "\n",
    "#setup early stopping\n",
    "es = EarlyStopping(monitor='val_acc', patience=10, verbose=1, min_delta=0.005)\n",
    "\n",
    "#we are going to keep only the best model\n",
    "mcp = ModelCheckpoint(filepath='weights.hdf5', verbose=1 , save_best_only=True)\n",
    "\n",
    "model.compile(loss='categorical_crossentropy', optimizer='adam', metrics=['mae','acc'])"
   ]
  },
  {
   "cell_type": "code",
   "execution_count": null,
   "metadata": {
    "colab": {
     "base_uri": "https://localhost:8080/",
     "height": 2431
    },
    "colab_type": "code",
    "id": "L59rd9d_3cOB",
    "outputId": "099292b2-a1c2-4df9-bb46-b1c9a740577c"
   },
   "outputs": [],
   "source": [
    "# set parameters and start learning\n",
    "history = model.fit(X_train, Y_train, \n",
    "          batch_size=1024, \n",
    "          epochs=100, # early stopping detects the end\n",
    "          verbose=1, \n",
    "          validation_data=(X_validation, Y_validation), \n",
    "          shuffle=True,\n",
    "          callbacks=[mcp, es]\n",
    "         )"
   ]
  },
  {
   "cell_type": "code",
   "execution_count": null,
   "metadata": {
    "colab": {
     "base_uri": "https://localhost:8080/",
     "height": 549
    },
    "colab_type": "code",
    "id": "NvHxV3qH836V",
    "outputId": "965abfa0-0f6a-43c6-bd75-e812c9601887"
   },
   "outputs": [],
   "source": [
    "plot_history(history)"
   ]
  },
  {
   "cell_type": "code",
   "execution_count": null,
   "metadata": {
    "colab": {},
    "colab_type": "code",
    "id": "ApnBzDtp3cOC"
   },
   "outputs": [],
   "source": [
    "# load back best model (early stopping + model checkpoint)\n",
    "model = load_model('weights.hdf5')"
   ]
  },
  {
   "cell_type": "code",
   "execution_count": null,
   "metadata": {
    "colab": {},
    "colab_type": "code",
    "id": "zN_Jetkx3cOE"
   },
   "outputs": [],
   "source": [
    "Y_pred = np.argmax(model.predict(X_test), axis=1)\n",
    "Y_true = np.argmax(Y_test, axis=1)"
   ]
  },
  {
   "cell_type": "code",
   "execution_count": null,
   "metadata": {
    "colab": {},
    "colab_type": "code",
    "id": "7-lubwLU8_BT"
   },
   "outputs": [],
   "source": [
    "Y_pred = np.argmax(model.predict(X_train), axis=1)\n",
    "Y_true = np.argmax(Y_train, axis=1)"
   ]
  },
  {
   "cell_type": "code",
   "execution_count": null,
   "metadata": {
    "colab": {
     "base_uri": "https://localhost:8080/",
     "height": 696
    },
    "colab_type": "code",
    "id": "QiK6PGhp3cOF",
    "outputId": "88c5a86e-0f46-401c-e3d7-699f53e7239a"
   },
   "outputs": [],
   "source": [
    "metrics = evaluate_result(Y_true, Y_pred)\n",
    "for key in metrics:\n",
    "    print(key + \":\", metrics[key], '%')\n",
    "print()\n",
    "\n",
    "title = 'Simple LSTM model on of 30 days ETH_EUR data'\n",
    "\n",
    "# Plot non-normalized confusion matrix\n",
    "plot_confusion_matrix(Y_true, Y_pred, classes=class_names, title=title)\n",
    "\n",
    "# Plot normalized confusion matrix\n",
    "plot_confusion_matrix(Y_true, Y_pred, classes=class_names, normalize=True, title=title)"
   ]
  },
  {
   "cell_type": "code",
   "execution_count": null,
   "metadata": {
    "colab": {},
    "colab_type": "code",
    "id": "ofUpxPTD9SNz"
   },
   "outputs": [],
   "source": []
  }
 ],
 "metadata": {
  "accelerator": "GPU",
  "colab": {
   "collapsed_sections": [],
   "name": "lstm_snapshots.ipynb",
   "provenance": [],
   "toc_visible": true,
   "version": "0.3.2"
  },
  "kernelspec": {
   "display_name": "Python 3",
   "language": "python",
   "name": "python3"
  },
  "language_info": {
   "codemirror_mode": {
    "name": "ipython",
    "version": 3
   },
   "file_extension": ".py",
   "mimetype": "text/x-python",
   "name": "python",
   "nbconvert_exporter": "python",
   "pygments_lexer": "ipython3",
   "version": "3.6.6"
  }
 },
 "nbformat": 4,
 "nbformat_minor": 1
}
