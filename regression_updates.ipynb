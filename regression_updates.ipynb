{
 "cells": [
  {
   "cell_type": "code",
   "execution_count": 32,
   "metadata": {},
   "outputs": [],
   "source": [
    "import numpy as np\n",
    "\n",
    "import time\n",
    "from datetime import datetime\n",
    "import math\n",
    "\n",
    "from IPython.display import display\n",
    "\n",
    "import matplotlib.pyplot as plt\n",
    "%matplotlib inline\n",
    "\n",
    "from functions import *"
   ]
  },
  {
   "cell_type": "code",
   "execution_count": 33,
   "metadata": {},
   "outputs": [],
   "source": [
    "# set default values\n",
    "plt.rcParams[\"figure.figsize\"] = [16, 9]\n",
    "\n",
    "np.random.seed(1234)\n",
    "# set_random_seed(1234)\n",
    "\n",
    "data_root_dir = \"data/kraken/\""
   ]
  },
  {
   "cell_type": "code",
   "execution_count": 94,
   "metadata": {},
   "outputs": [
    {
     "name": "stdout",
     "output_type": "stream",
     "text": [
      "30 update files read.\n",
      "30 snapshot files read.\n"
     ]
    }
   ],
   "source": [
    "update_files, snapshot_files = read_file_list(data_root_dir, verbose=True)"
   ]
  },
  {
   "cell_type": "code",
   "execution_count": 96,
   "metadata": {},
   "outputs": [],
   "source": [
    "path = './data/kraken/eth_eur/updates_2019-03-15.csv.gz'\n",
    "dataset = np.loadtxt(path, delimiter=',')"
   ]
  },
  {
   "cell_type": "code",
   "execution_count": 97,
   "metadata": {},
   "outputs": [],
   "source": [
    "def clean_dataset(dataset, start_time):\n",
    "    clean = np.zeros([len(dataset), 4], dtype=float)\n",
    "    \n",
    "    cnt = 0\n",
    "    \n",
    "    for dp in dataset:\n",
    "        if not dp[-1] < start_time:\n",
    "            clean[cnt] = dp\n",
    "            cnt += 1\n",
    "        \n",
    "    return clean[:cnt]"
   ]
  },
  {
   "cell_type": "code",
   "execution_count": 98,
   "metadata": {},
   "outputs": [],
   "source": [
    "def format_date(timestamp):\n",
    "    return datetime.utcfromtimestamp(timestamp).strftime('%Y-%m-%d %H:%M:%S')"
   ]
  },
  {
   "cell_type": "code",
   "execution_count": 99,
   "metadata": {},
   "outputs": [
    {
     "data": {
      "text/plain": [
       "570828"
      ]
     },
     "execution_count": 99,
     "metadata": {},
     "output_type": "execute_result"
    }
   ],
   "source": [
    "len(dataset)"
   ]
  },
  {
   "cell_type": "code",
   "execution_count": 102,
   "metadata": {},
   "outputs": [
    {
     "data": {
      "text/plain": [
       "'2019-03-15 00:00:00'"
      ]
     },
     "execution_count": 102,
     "metadata": {},
     "output_type": "execute_result"
    }
   ],
   "source": [
    "path_array = path.split('/')\n",
    "asset_pair = path_array[-2]\n",
    "date = path_array[-1].split('.')[0][-10:].split('-')\n",
    "date = [int(d) for d in date]\n",
    "start_time = time.mktime((date[0], date[1], date[2], 1, 0, 0, 0, 0, -1))\n",
    "\n",
    "format_date(start_time)"
   ]
  },
  {
   "cell_type": "code",
   "execution_count": 103,
   "metadata": {},
   "outputs": [
    {
     "data": {
      "text/plain": [
       "86400"
      ]
     },
     "execution_count": 103,
     "metadata": {},
     "output_type": "execute_result"
    }
   ],
   "source": [
    "seconds = 24*60*60\n",
    "\n",
    "seconds"
   ]
  },
  {
   "cell_type": "code",
   "execution_count": 104,
   "metadata": {},
   "outputs": [
    {
     "name": "stdout",
     "output_type": "stream",
     "text": [
      "Sum: 570828\n",
      "Wrong: 159333\n",
      "Correct: 411495\n",
      "---------------\n",
      "Wrong/Sum ratio: 0.2791261115432319\n",
      "Correct/s: 4.762673611111111\n"
     ]
    }
   ],
   "source": [
    "wrong = 0\n",
    "\n",
    "for i, data in enumerate(dataset):\n",
    "    if data[-1] < start_time or data[-1] < dataset[i-1][-1]:\n",
    "        wrong += 1\n",
    "        \n",
    "sum_ = len(dataset)\n",
    "correct = sum_ - wrong\n",
    "\n",
    "print(\"Sum:\", sum_)\n",
    "print(\"Wrong:\", wrong)\n",
    "print(\"Correct:\", correct)\n",
    "print(\"-\"*15)\n",
    "print(\"Wrong/Sum ratio:\", wrong/sum_)\n",
    "print(\"Correct/s:\", correct/seconds)"
   ]
  },
  {
   "cell_type": "code",
   "execution_count": 105,
   "metadata": {},
   "outputs": [
    {
     "name": "stdout",
     "output_type": "stream",
     "text": [
      "- 2019-03-15 00:01:44\n",
      "- 2019-03-15 00:01:44\n",
      "? 2019-03-14 14:24:44\n",
      "? 2019-03-14 14:24:44\n",
      "? 2019-03-14 21:27:20\n",
      "? 2019-03-14 14:24:44\n",
      "? 2019-03-14 17:56:47\n",
      "? 2019-03-14 14:24:44\n",
      "? 2019-03-14 17:56:47\n",
      "? 2019-03-14 21:27:20\n",
      "? 2019-03-14 14:24:44\n",
      "? 2019-03-14 14:24:44\n",
      "? 2019-03-14 14:35:36\n",
      "? 2019-03-14 17:56:47\n",
      "? 2019-03-14 17:40:52\n",
      "? 2019-03-14 14:23:20\n",
      "? 2019-03-14 19:33:25\n",
      "? 2019-03-14 14:12:09\n",
      "? 2019-03-14 14:24:44\n",
      "- 2019-03-15 00:01:54\n",
      "- 2019-03-15 00:01:54\n",
      "? 2019-03-14 14:35:36\n",
      "? 2019-03-14 17:56:47\n",
      "? 2019-03-14 14:35:36\n",
      "? 2019-03-14 17:56:47\n",
      "? 2019-03-14 14:24:44\n",
      "? 2019-03-14 16:42:30\n",
      "? 2019-03-14 14:20:02\n",
      "? 2019-03-14 14:20:02\n",
      "? 2019-03-14 18:19:06\n"
     ]
    }
   ],
   "source": [
    "for i, data in enumerate(dataset[:100]):\n",
    "    if data[-1] < start_time:\n",
    "        print(\"?\", datetime.utcfromtimestamp(data[-1]).strftime('%Y-%m-%d %H:%M:%S'))\n",
    "    elif data[-1] < dataset[i-1][-1]:\n",
    "        print(\"-\", datetime.utcfromtimestamp(data[-1]).strftime('%Y-%m-%d %H:%M:%S'))"
   ]
  },
  {
   "cell_type": "code",
   "execution_count": 106,
   "metadata": {},
   "outputs": [],
   "source": [
    "clean = clean_dataset(dataset, start_time)\n",
    "clean = np.unique(clean, axis=0)\n",
    "clean = clean[clean[:,-1].argsort()]"
   ]
  },
  {
   "cell_type": "code",
   "execution_count": 108,
   "metadata": {},
   "outputs": [
    {
     "data": {
      "text/plain": [
       "439649"
      ]
     },
     "execution_count": 108,
     "metadata": {},
     "output_type": "execute_result"
    }
   ],
   "source": [
    "len(clean)"
   ]
  },
  {
   "cell_type": "code",
   "execution_count": null,
   "metadata": {},
   "outputs": [],
   "source": []
  }
 ],
 "metadata": {
  "kernelspec": {
   "display_name": "Python 3",
   "language": "python",
   "name": "python3"
  },
  "language_info": {
   "codemirror_mode": {
    "name": "ipython",
    "version": 3
   },
   "file_extension": ".py",
   "mimetype": "text/x-python",
   "name": "python",
   "nbconvert_exporter": "python",
   "pygments_lexer": "ipython3",
   "version": "3.6.6"
  }
 },
 "nbformat": 4,
 "nbformat_minor": 2
}
