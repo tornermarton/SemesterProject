{
  "nbformat": 4,
  "nbformat_minor": 0,
  "metadata": {
    "colab": {
      "name": "lstm_snapshots.ipynb",
      "version": "0.3.2",
      "provenance": [],
      "collapsed_sections": [],
      "toc_visible": true
    },
    "language_info": {
      "codemirror_mode": {
        "name": "ipython",
        "version": 3
      },
      "file_extension": ".py",
      "mimetype": "text/x-python",
      "name": "python",
      "nbconvert_exporter": "python",
      "pygments_lexer": "ipython3",
      "version": "3.6.6"
    },
    "kernelspec": {
      "name": "python3",
      "display_name": "Python 3"
    },
    "accelerator": "GPU"
  },
  "cells": [
    {
      "metadata": {
        "id": "GIhvlgkn399K",
        "colab_type": "code",
        "outputId": "c35dee2d-bfe1-4111-de41-37cbc17183b7",
        "colab": {
          "base_uri": "https://localhost:8080/",
          "height": 165
        }
      },
      "cell_type": "code",
      "source": [
        "!git clone https://github.com/tornermarton/SemesterProject.git"
      ],
      "execution_count": 0,
      "outputs": [
        {
          "output_type": "stream",
          "text": [
            "Cloning into 'SemesterProject'...\n",
            "remote: Enumerating objects: 227, done.\u001b[K\n",
            "remote: Counting objects: 100% (227/227), done.\u001b[K\n",
            "remote: Compressing objects: 100% (195/195), done.\u001b[K\n",
            "remote: Total 227 (delta 95), reused 155 (delta 23), pack-reused 0\u001b[K\n",
            "Receiving objects: 100% (227/227), 7.39 MiB | 26.37 MiB/s, done.\n",
            "Resolving deltas: 100% (95/95), done.\n"
          ],
          "name": "stdout"
        }
      ]
    },
    {
      "metadata": {
        "id": "IDAlk9yb4CRD",
        "colab_type": "code",
        "colab": {}
      },
      "cell_type": "code",
      "source": [
        "import os\n",
        "os.chdir(\"SemesterProject/\")"
      ],
      "execution_count": 0,
      "outputs": []
    },
    {
      "metadata": {
        "id": "9aRezpGg3cNZ",
        "colab_type": "code",
        "colab": {}
      },
      "cell_type": "code",
      "source": [
        "import numpy as np\n",
        "\n",
        "from sklearn.model_selection import train_test_split\n",
        "from sklearn.preprocessing import StandardScaler\n",
        "\n",
        "import time\n",
        "import math\n",
        "import os\n",
        "import gzip\n",
        "\n",
        "from IPython.display import display\n",
        "\n",
        "import matplotlib.pyplot as plt\n",
        "%matplotlib inline\n",
        "\n",
        "# keras\n",
        "from keras.models import Model, load_model\n",
        "from keras.callbacks import EarlyStopping, ModelCheckpoint, CSVLogger\n",
        "from keras.optimizers import Adam\n",
        "from keras.layers import Input, LSTM, Flatten, Dense, Dropout, TimeDistributed, Conv1D\n",
        "from keras.utils import np_utils\n",
        "\n",
        "from tensorflow import set_random_seed\n",
        "\n",
        "# functions to calculate WAMP, VWAP, etc. and display plots\n",
        "from functions.market.features import *\n",
        "from functions.market.plots import *\n",
        "from functions.preprocessing import *\n",
        "from functions.evaluation import *"
      ],
      "execution_count": 0,
      "outputs": []
    },
    {
      "metadata": {
        "id": "xo0JzM3x3cNf",
        "colab_type": "code",
        "colab": {}
      },
      "cell_type": "code",
      "source": [
        "np.random.seed(1234)\n",
        "set_random_seed(1234)"
      ],
      "execution_count": 0,
      "outputs": []
    },
    {
      "metadata": {
        "id": "CJ9i6P0Y3cNi",
        "colab_type": "code",
        "colab": {}
      },
      "cell_type": "code",
      "source": [
        "n_labels = 3\n",
        "\n",
        "if n_labels == 2:\n",
        "    class_names = [-1, 1]\n",
        "elif n_labels == 3:\n",
        "    class_names = [-1, 0, 1]\n",
        "else:\n",
        "    class_names = []"
      ],
      "execution_count": 0,
      "outputs": []
    },
    {
      "metadata": {
        "id": "j9X4Z-T83cNl",
        "colab_type": "code",
        "outputId": "a83d2412-57e7-4973-e0f6-b1dc7a669c7b",
        "colab": {
          "base_uri": "https://localhost:8080/",
          "height": 649
        }
      },
      "cell_type": "code",
      "source": [
        "with gzip.GzipFile(\"../eth_eur_d20_lw30_sw4320_l3.npy.gz\", \"r\") as file:\n",
        "    data = np.load(file)\n",
        "    \n",
        "lob_depth = int(len(data[\"snapshot\"][0])/2)\n",
        "\n",
        "print(\"Dataset size:\", len(data))\n",
        "print(\"Depth:\", lob_depth)\n",
        "\n",
        "print(\"Label distribution in the whole dataset:\")\n",
        "count_labels(data[\"label\"])\n",
        "\n",
        "plt.hist(data[\"vwap\"], bins=200)\n",
        "plot_labels(data[\"vwap\"][:500], data[\"label\"][:500])\n",
        "plt.show()"
      ],
      "execution_count": 0,
      "outputs": [
        {
          "output_type": "stream",
          "text": [
            "Dataset size: 37440\n",
            "Depth: 20\n",
            "Label distribution in the whole dataset:\n",
            "UP labels: 12667 \t 33.83279914529915%\n",
            "NO_MOVE labels: 12801 \t 34.19070512820513%\n",
            "DOWN labels: 11972 \t 31.976495726495724%\n"
          ],
          "name": "stdout"
        },
        {
          "output_type": "display_data",
          "data": {
            "image/png": "[encoded data removed]",
            "text/plain": [
              "<Figure size 432x288 with 1 Axes>"
            ]
          },
          "metadata": {
            "tags": []
          }
        },
        {
          "output_type": "display_data",
          "data": {
            "image/png": "[encoded data removed]",
            "text/plain": [
              "<Figure size 432x288 with 1 Axes>"
            ]
          },
          "metadata": {
            "tags": []
          }
        }
      ]
    },
    {
      "metadata": {
        "id": "68Oe_jo43cNp",
        "colab_type": "text"
      },
      "cell_type": "markdown",
      "source": [
        "# DATA PREPARATION"
      ]
    },
    {
      "metadata": {
        "id": "5mULOC8f3cNp",
        "colab_type": "text"
      },
      "cell_type": "markdown",
      "source": [
        "## Timestep sampling"
      ]
    },
    {
      "metadata": {
        "id": "RHb_7Wit3cNq",
        "colab_type": "code",
        "colab": {}
      },
      "cell_type": "code",
      "source": [
        "timestep = 100\n",
        "\n",
        "input_shape = (timestep, 2*lob_depth*2)\n",
        "\n",
        "dataset = np.zeros([len(data)-timestep], dtype=[('input', np.float32, input_shape), ('label', int, 1)])\n",
        "\n",
        "for i in range(0, len(dataset)):\n",
        "    dataset[\"label\"][i] = data[\"label\"][i+timestep-1]    \n",
        "    dataset[\"input\"][i] = data[\"snapshot\"][i:i+timestep,:,0:2].reshape(-1, 2*lob_depth*2)"
      ],
      "execution_count": 0,
      "outputs": []
    },
    {
      "metadata": {
        "id": "MgN1f2UR3cNs",
        "colab_type": "code",
        "outputId": "526f1936-0fae-488e-d7c4-88a01ceb3697",
        "colab": {
          "base_uri": "https://localhost:8080/",
          "height": 34
        }
      },
      "cell_type": "code",
      "source": [
        "len(dataset)"
      ],
      "execution_count": 0,
      "outputs": [
        {
          "output_type": "execute_result",
          "data": {
            "text/plain": [
              "37340"
            ]
          },
          "metadata": {
            "tags": []
          },
          "execution_count": 25
        }
      ]
    },
    {
      "metadata": {
        "id": "Bnhe0bT63cNv",
        "colab_type": "code",
        "outputId": "03d74861-bc64-4820-89fe-57c202bb4594",
        "colab": {
          "base_uri": "https://localhost:8080/",
          "height": 34
        }
      },
      "cell_type": "code",
      "source": [
        "dataset[\"input\"][0].shape"
      ],
      "execution_count": 0,
      "outputs": [
        {
          "output_type": "execute_result",
          "data": {
            "text/plain": [
              "(100, 80)"
            ]
          },
          "metadata": {
            "tags": []
          },
          "execution_count": 26
        }
      ]
    },
    {
      "metadata": {
        "id": "6JT7G3ig3cNx",
        "colab_type": "code",
        "outputId": "af0c6703-39db-43b7-c8a4-ca501e53f376",
        "colab": {
          "base_uri": "https://localhost:8080/",
          "height": 238
        }
      },
      "cell_type": "code",
      "source": [
        "dataset[\"input\"][0]"
      ],
      "execution_count": 0,
      "outputs": [
        {
          "output_type": "execute_result",
          "data": {
            "text/plain": [
              "array([[0.48748952, 2.09832   , 0.49165833, ..., 0.8274785 , 0.8542668 ,\n",
              "        0.91465044],\n",
              "       [0.5291679 , 2.009497  , 0.5458399 , ..., 1.2686731 , 0.8751044 ,\n",
              "        1.2773902 ],\n",
              "       [0.59585583, 1.1506423 , 0.60002464, ..., 0.5886412 , 1.029318  ,\n",
              "        0.5894974 ],\n",
              "       ...,\n",
              "       [0.675047  , 1.604599  , 0.6833814 , ..., 1.1863217 , 1.091837  ,\n",
              "        1.2649857 ],\n",
              "       [0.60835904, 0.85078657, 0.62086225, ..., 0.86171263, 1.0043083 ,\n",
              "        0.9488846 ],\n",
              "       [0.641703  , 0.37862498, 0.6458718 , ..., 0.4028152 , 1.012646  ,\n",
              "        0.6301596 ]], dtype=float32)"
            ]
          },
          "metadata": {
            "tags": []
          },
          "execution_count": 27
        }
      ]
    },
    {
      "metadata": {
        "id": "rnToYGzj3cN0",
        "colab_type": "code",
        "outputId": "e21ac0cb-601d-410b-c5da-6be108c627cf",
        "colab": {
          "base_uri": "https://localhost:8080/",
          "height": 34
        }
      },
      "cell_type": "code",
      "source": [
        "dataset[\"label\"].shape"
      ],
      "execution_count": 0,
      "outputs": [
        {
          "output_type": "execute_result",
          "data": {
            "text/plain": [
              "(37340,)"
            ]
          },
          "metadata": {
            "tags": []
          },
          "execution_count": 28
        }
      ]
    },
    {
      "metadata": {
        "id": "zqoJyeua3cN3",
        "colab_type": "text"
      },
      "cell_type": "markdown",
      "source": [
        "## Train-validation-test split and shuffle"
      ]
    },
    {
      "metadata": {
        "id": "YpgyYtGN3cN5",
        "colab_type": "code",
        "colab": {}
      },
      "cell_type": "code",
      "source": [
        "tmp, test = train_test_split(dataset, test_size=0.1, random_state=42, shuffle = False, stratify = None)\n",
        "train, validation = train_test_split(tmp, test_size=0.2, random_state=42, shuffle = False, stratify = None)"
      ],
      "execution_count": 0,
      "outputs": []
    },
    {
      "metadata": {
        "id": "gQCexZvK3cN6",
        "colab_type": "code",
        "colab": {}
      },
      "cell_type": "code",
      "source": [
        "# shuffle (only after splitting!!!)\n",
        "np.random.shuffle(train)\n",
        "np.random.shuffle(validation)\n",
        "np.random.shuffle(test)"
      ],
      "execution_count": 0,
      "outputs": []
    },
    {
      "metadata": {
        "id": "osoBYXWr3cN7",
        "colab_type": "code",
        "outputId": "38293194-7aae-4995-bdfa-c2bb7427fd25",
        "colab": {
          "base_uri": "https://localhost:8080/",
          "height": 306
        }
      },
      "cell_type": "code",
      "source": [
        "# input\n",
        "X_train = train['input']\n",
        "X_validation = validation['input']\n",
        "X_test = test['input']\n",
        "\n",
        "# output\n",
        "Y_train = train['label']\n",
        "Y_validation = validation['label']\n",
        "Y_test = test['label']\n",
        "\n",
        "print(\"Train shape:\", X_train.shape)\n",
        "print(\"Label distribution in train set:\")\n",
        "count_labels(Y_train)\n",
        "\n",
        "print()\n",
        "\n",
        "print(\"Validation shape:\", X_validation.shape)\n",
        "print(\"Label distribution in train set:\")\n",
        "count_labels(Y_validation)\n",
        "\n",
        "print()\n",
        "\n",
        "print(\"Test shape:\", X_test.shape)\n",
        "print(\"Label distribution in test set:\")\n",
        "count_labels(Y_test)\n",
        "\n",
        "# one hot encoding\n",
        "Y_train = np_utils.to_categorical(Y_train, n_labels)\n",
        "Y_validation = np_utils.to_categorical(Y_validation, n_labels)\n",
        "Y_test = np_utils.to_categorical(Y_test, n_labels)"
      ],
      "execution_count": 0,
      "outputs": [
        {
          "output_type": "stream",
          "text": [
            "Train shape: (26884, 100, 80)\n",
            "Label distribution in train set:\n",
            "UP labels: 9280 \t 34.51867281654516%\n",
            "NO_MOVE labels: 9060 \t 33.70034221098051%\n",
            "DOWN labels: 8544 \t 31.780984972474336%\n",
            "\n",
            "Validation shape: (6722, 100, 80)\n",
            "Label distribution in train set:\n",
            "UP labels: 2299 \t 34.20113061588813%\n",
            "NO_MOVE labels: 2366 \t 35.197857780422495%\n",
            "DOWN labels: 2057 \t 30.601011603689376%\n",
            "\n",
            "Test shape: (3734, 100, 80)\n",
            "Label distribution in test set:\n",
            "UP labels: 1057 \t 28.307445099089453%\n",
            "NO_MOVE labels: 1341 \t 35.91322978039636%\n",
            "DOWN labels: 1336 \t 35.779325120514194%\n"
          ],
          "name": "stdout"
        }
      ]
    },
    {
      "metadata": {
        "id": "Ozi77xYt3cN9",
        "colab_type": "text"
      },
      "cell_type": "markdown",
      "source": [
        "# Neural network"
      ]
    },
    {
      "metadata": {
        "id": "yVyMNEhM3cN9",
        "colab_type": "code",
        "colab": {}
      },
      "cell_type": "code",
      "source": [
        "def plot_history(network_history):\n",
        "    \n",
        "    #set pltting attributes\n",
        "    #loss-epochs\n",
        "    plt.figure()\n",
        "    plt.xlabel('Epochs')\n",
        "    plt.ylabel('Loss')\n",
        "    plt.plot(network_history.history['loss'])\n",
        "    plt.plot(network_history.history['val_loss'])\n",
        "    plt.legend(['Training', 'Validation'])\n",
        "\n",
        "    #accuracy-epochs\n",
        "    plt.figure()\n",
        "    plt.xlabel('Epochs')\n",
        "    plt.ylabel('Accuracy')\n",
        "    plt.plot(network_history.history['acc'])\n",
        "    plt.plot(network_history.history['val_acc'])\n",
        "    plt.legend(['Training', 'Validation'])\n",
        "    \n",
        "    plt.show()"
      ],
      "execution_count": 0,
      "outputs": []
    },
    {
      "metadata": {
        "id": "gG_yi8Kr3cN-",
        "colab_type": "code",
        "outputId": "e64535e4-ed6e-4ec8-b773-68971a3f98a6",
        "colab": {
          "base_uri": "https://localhost:8080/",
          "height": 408
        }
      },
      "cell_type": "code",
      "source": [
        "inputs = Input(shape=X_train[0].shape)\n",
        "\n",
        "conv = Conv1D(filters=32,\n",
        "               kernel_size=2,\n",
        "               strides=2,\n",
        "               activation='relu',\n",
        "               padding='same')(inputs)\n",
        "\n",
        "# inception\n",
        "\n",
        "lstm = LSTM(\n",
        "        64, \n",
        "        dropout=0.4, \n",
        "        recurrent_dropout=0.4,\n",
        "        return_sequences=True)(conv)\n",
        "\n",
        "x = TimeDistributed(Dense(10, activation=\"relu\"))(lstm)\n",
        "\n",
        "x = Flatten()(x)\n",
        "\n",
        "x = Dense(100, activation=\"relu\")(x)\n",
        "x = Dropout(0.2)(x)\n",
        "\n",
        "predictions = Dense(3, activation=\"softmax\")(x)\n",
        "\n",
        "# This creates a model that includes\n",
        "# the Input layer and three Dense layers\n",
        "model = Model(inputs=inputs, outputs=predictions)\n",
        "\n",
        "model.summary()"
      ],
      "execution_count": 0,
      "outputs": [
        {
          "output_type": "stream",
          "text": [
            "_________________________________________________________________\n",
            "Layer (type)                 Output Shape              Param #   \n",
            "=================================================================\n",
            "input_4 (InputLayer)         (None, 100, 80)           0         \n",
            "_________________________________________________________________\n",
            "conv1d_4 (Conv1D)            (None, 50, 32)            5152      \n",
            "_________________________________________________________________\n",
            "lstm_4 (LSTM)                (None, 50, 64)            24832     \n",
            "_________________________________________________________________\n",
            "time_distributed_4 (TimeDist (None, 50, 10)            650       \n",
            "_________________________________________________________________\n",
            "flatten_4 (Flatten)          (None, 500)               0         \n",
            "_________________________________________________________________\n",
            "dense_11 (Dense)             (None, 100)               50100     \n",
            "_________________________________________________________________\n",
            "dropout_4 (Dropout)          (None, 100)               0         \n",
            "_________________________________________________________________\n",
            "dense_12 (Dense)             (None, 3)                 303       \n",
            "=================================================================\n",
            "Total params: 81,037\n",
            "Trainable params: 81,037\n",
            "Non-trainable params: 0\n",
            "_________________________________________________________________\n"
          ],
          "name": "stdout"
        }
      ]
    },
    {
      "metadata": {
        "id": "Y0WUm0Q13cN_",
        "colab_type": "code",
        "colab": {}
      },
      "cell_type": "code",
      "source": [
        "csv_logger = CSVLogger('history_log.csv', append=True, separator=';')\n",
        "\n",
        "#setup early stopping\n",
        "es = EarlyStopping(monitor='val_acc', patience=10, verbose=1, min_delta=0.005)\n",
        "\n",
        "#we are going to keep only the best model\n",
        "mcp = ModelCheckpoint(filepath='weights.hdf5', verbose=1 , save_best_only=True)\n",
        "\n",
        "model.compile(loss='categorical_crossentropy', optimizer='adam', metrics=['mae','acc'])"
      ],
      "execution_count": 0,
      "outputs": []
    },
    {
      "metadata": {
        "id": "L59rd9d_3cOB",
        "colab_type": "code",
        "outputId": "099292b2-a1c2-4df9-bb46-b1c9a740577c",
        "colab": {
          "base_uri": "https://localhost:8080/",
          "height": 2431
        }
      },
      "cell_type": "code",
      "source": [
        "# set parameters and start learning\n",
        "history = model.fit(X_train, Y_train, \n",
        "          batch_size=1024, \n",
        "          epochs=100, # early stopping detects the end\n",
        "          verbose=1, \n",
        "          validation_data=(X_validation, Y_validation), \n",
        "          shuffle=True,\n",
        "          callbacks=[mcp, es]\n",
        "         )"
      ],
      "execution_count": 0,
      "outputs": [
        {
          "output_type": "stream",
          "text": [
            "Train on 26884 samples, validate on 6722 samples\n",
            "Epoch 1/100\n",
            "26884/26884 [==============================] - 7s 242us/step - loss: 1.1005 - mean_absolute_error: 0.4424 - acc: 0.3467 - val_loss: 1.0986 - val_mean_absolute_error: 0.4444 - val_acc: 0.3227\n",
            "\n",
            "Epoch 00001: val_loss improved from inf to 1.09862, saving model to weights.hdf5\n",
            "Epoch 2/100\n",
            "26884/26884 [==============================] - 4s 145us/step - loss: 1.0931 - mean_absolute_error: 0.4416 - acc: 0.3578 - val_loss: 1.0986 - val_mean_absolute_error: 0.4444 - val_acc: 0.3338\n",
            "\n",
            "Epoch 00002: val_loss improved from 1.09862 to 1.09856, saving model to weights.hdf5\n",
            "Epoch 3/100\n",
            "26884/26884 [==============================] - 4s 156us/step - loss: 1.0916 - mean_absolute_error: 0.4412 - acc: 0.3581 - val_loss: 1.0977 - val_mean_absolute_error: 0.4442 - val_acc: 0.3335\n",
            "\n",
            "Epoch 00003: val_loss improved from 1.09856 to 1.09766, saving model to weights.hdf5\n",
            "Epoch 4/100\n",
            "26884/26884 [==============================] - 4s 154us/step - loss: 1.0879 - mean_absolute_error: 0.4401 - acc: 0.3740 - val_loss: 1.0942 - val_mean_absolute_error: 0.4432 - val_acc: 0.3663\n",
            "\n",
            "Epoch 00004: val_loss improved from 1.09766 to 1.09423, saving model to weights.hdf5\n",
            "Epoch 5/100\n",
            "26884/26884 [==============================] - 4s 141us/step - loss: 1.0826 - mean_absolute_error: 0.4379 - acc: 0.3886 - val_loss: 1.0963 - val_mean_absolute_error: 0.4431 - val_acc: 0.3616\n",
            "\n",
            "Epoch 00005: val_loss did not improve from 1.09423\n",
            "Epoch 6/100\n",
            "26884/26884 [==============================] - 4s 141us/step - loss: 1.0715 - mean_absolute_error: 0.4338 - acc: 0.4075 - val_loss: 1.0951 - val_mean_absolute_error: 0.4413 - val_acc: 0.3789\n",
            "\n",
            "Epoch 00006: val_loss did not improve from 1.09423\n",
            "Epoch 7/100\n",
            "26884/26884 [==============================] - 4s 139us/step - loss: 1.0609 - mean_absolute_error: 0.4294 - acc: 0.4159 - val_loss: 1.0987 - val_mean_absolute_error: 0.4416 - val_acc: 0.3669\n",
            "\n",
            "Epoch 00007: val_loss did not improve from 1.09423\n",
            "Epoch 8/100\n",
            "26884/26884 [==============================] - 4s 141us/step - loss: 1.0482 - mean_absolute_error: 0.4243 - acc: 0.4346 - val_loss: 1.0991 - val_mean_absolute_error: 0.4396 - val_acc: 0.3743\n",
            "\n",
            "Epoch 00008: val_loss did not improve from 1.09423\n",
            "Epoch 9/100\n",
            "26884/26884 [==============================] - 4s 139us/step - loss: 1.0360 - mean_absolute_error: 0.4193 - acc: 0.4487 - val_loss: 1.0947 - val_mean_absolute_error: 0.4368 - val_acc: 0.3834\n",
            "\n",
            "Epoch 00009: val_loss did not improve from 1.09423\n",
            "Epoch 10/100\n",
            "26884/26884 [==============================] - 4s 140us/step - loss: 1.0184 - mean_absolute_error: 0.4129 - acc: 0.4663 - val_loss: 1.0930 - val_mean_absolute_error: 0.4330 - val_acc: 0.3896\n",
            "\n",
            "Epoch 00010: val_loss improved from 1.09423 to 1.09304, saving model to weights.hdf5\n",
            "Epoch 11/100\n",
            "26884/26884 [==============================] - 4s 140us/step - loss: 0.9978 - mean_absolute_error: 0.4046 - acc: 0.4815 - val_loss: 1.0904 - val_mean_absolute_error: 0.4286 - val_acc: 0.3916\n",
            "\n",
            "Epoch 00011: val_loss improved from 1.09304 to 1.09036, saving model to weights.hdf5\n",
            "Epoch 12/100\n",
            "26884/26884 [==============================] - 4s 140us/step - loss: 0.9789 - mean_absolute_error: 0.3971 - acc: 0.4969 - val_loss: 1.1149 - val_mean_absolute_error: 0.4283 - val_acc: 0.3938\n",
            "\n",
            "Epoch 00012: val_loss did not improve from 1.09036\n",
            "Epoch 13/100\n",
            "26884/26884 [==============================] - 4s 141us/step - loss: 0.9678 - mean_absolute_error: 0.3924 - acc: 0.5024 - val_loss: 1.1043 - val_mean_absolute_error: 0.4246 - val_acc: 0.4110\n",
            "\n",
            "Epoch 00013: val_loss did not improve from 1.09036\n",
            "Epoch 14/100\n",
            "26884/26884 [==============================] - 4s 140us/step - loss: 0.9445 - mean_absolute_error: 0.3840 - acc: 0.5213 - val_loss: 1.1049 - val_mean_absolute_error: 0.4182 - val_acc: 0.4179\n",
            "\n",
            "Epoch 00014: val_loss did not improve from 1.09036\n",
            "Epoch 15/100\n",
            "26884/26884 [==============================] - 4s 140us/step - loss: 0.9334 - mean_absolute_error: 0.3785 - acc: 0.5301 - val_loss: 1.1264 - val_mean_absolute_error: 0.4177 - val_acc: 0.4091\n",
            "\n",
            "Epoch 00015: val_loss did not improve from 1.09036\n",
            "Epoch 16/100\n",
            "26884/26884 [==============================] - 4s 141us/step - loss: 0.9239 - mean_absolute_error: 0.3754 - acc: 0.5332 - val_loss: 1.1175 - val_mean_absolute_error: 0.4154 - val_acc: 0.4164\n",
            "\n",
            "Epoch 00016: val_loss did not improve from 1.09036\n",
            "Epoch 17/100\n",
            "26884/26884 [==============================] - 4s 143us/step - loss: 0.9092 - mean_absolute_error: 0.3691 - acc: 0.5434 - val_loss: 1.1062 - val_mean_absolute_error: 0.4120 - val_acc: 0.4280\n",
            "\n",
            "Epoch 00017: val_loss did not improve from 1.09036\n",
            "Epoch 18/100\n",
            "26884/26884 [==============================] - 4s 140us/step - loss: 0.8974 - mean_absolute_error: 0.3649 - acc: 0.5583 - val_loss: 1.1145 - val_mean_absolute_error: 0.4111 - val_acc: 0.4222\n",
            "\n",
            "Epoch 00018: val_loss did not improve from 1.09036\n",
            "Epoch 19/100\n",
            "26884/26884 [==============================] - 4s 140us/step - loss: 0.8839 - mean_absolute_error: 0.3594 - acc: 0.5658 - val_loss: 1.1340 - val_mean_absolute_error: 0.4092 - val_acc: 0.4261\n",
            "\n",
            "Epoch 00019: val_loss did not improve from 1.09036\n",
            "Epoch 20/100\n",
            "26884/26884 [==============================] - 4s 139us/step - loss: 0.8751 - mean_absolute_error: 0.3550 - acc: 0.5702 - val_loss: 1.1200 - val_mean_absolute_error: 0.4070 - val_acc: 0.4353\n",
            "\n",
            "Epoch 00020: val_loss did not improve from 1.09036\n",
            "Epoch 21/100\n",
            "26884/26884 [==============================] - 4s 140us/step - loss: 0.8594 - mean_absolute_error: 0.3504 - acc: 0.5836 - val_loss: 1.1037 - val_mean_absolute_error: 0.4013 - val_acc: 0.4542\n",
            "\n",
            "Epoch 00021: val_loss did not improve from 1.09036\n",
            "Epoch 22/100\n",
            "26884/26884 [==============================] - 4s 140us/step - loss: 0.8470 - mean_absolute_error: 0.3456 - acc: 0.5880 - val_loss: 1.1094 - val_mean_absolute_error: 0.3968 - val_acc: 0.4525\n",
            "\n",
            "Epoch 00022: val_loss did not improve from 1.09036\n",
            "Epoch 23/100\n",
            "26884/26884 [==============================] - 4s 143us/step - loss: 0.8389 - mean_absolute_error: 0.3411 - acc: 0.5974 - val_loss: 1.1255 - val_mean_absolute_error: 0.3985 - val_acc: 0.4533\n",
            "\n",
            "Epoch 00023: val_loss did not improve from 1.09036\n",
            "Epoch 24/100\n",
            "26884/26884 [==============================] - 4s 155us/step - loss: 0.8269 - mean_absolute_error: 0.3370 - acc: 0.6054 - val_loss: 1.1350 - val_mean_absolute_error: 0.3988 - val_acc: 0.4563\n",
            "\n",
            "Epoch 00024: val_loss did not improve from 1.09036\n",
            "Epoch 25/100\n",
            "26884/26884 [==============================] - 4s 153us/step - loss: 0.8211 - mean_absolute_error: 0.3348 - acc: 0.6082 - val_loss: 1.1389 - val_mean_absolute_error: 0.3978 - val_acc: 0.4621\n",
            "\n",
            "Epoch 00025: val_loss did not improve from 1.09036\n",
            "Epoch 26/100\n",
            "26884/26884 [==============================] - 4s 142us/step - loss: 0.8153 - mean_absolute_error: 0.3316 - acc: 0.6104 - val_loss: 1.1387 - val_mean_absolute_error: 0.3954 - val_acc: 0.4551\n",
            "\n",
            "Epoch 00026: val_loss did not improve from 1.09036\n",
            "Epoch 27/100\n",
            "26884/26884 [==============================] - 4s 142us/step - loss: 0.7980 - mean_absolute_error: 0.3254 - acc: 0.6237 - val_loss: 1.1701 - val_mean_absolute_error: 0.3934 - val_acc: 0.4534\n",
            "\n",
            "Epoch 00027: val_loss did not improve from 1.09036\n",
            "Epoch 28/100\n",
            "26884/26884 [==============================] - 4s 140us/step - loss: 0.7963 - mean_absolute_error: 0.3236 - acc: 0.6237 - val_loss: 1.1777 - val_mean_absolute_error: 0.3988 - val_acc: 0.4417\n",
            "\n",
            "Epoch 00028: val_loss did not improve from 1.09036\n",
            "Epoch 29/100\n",
            "26884/26884 [==============================] - 4s 141us/step - loss: 0.7828 - mean_absolute_error: 0.3192 - acc: 0.6284 - val_loss: 1.1961 - val_mean_absolute_error: 0.3955 - val_acc: 0.4493\n",
            "\n",
            "Epoch 00029: val_loss did not improve from 1.09036\n",
            "Epoch 30/100\n",
            "26884/26884 [==============================] - 4s 140us/step - loss: 0.7694 - mean_absolute_error: 0.3135 - acc: 0.6419 - val_loss: 1.2031 - val_mean_absolute_error: 0.3947 - val_acc: 0.4656\n",
            "\n",
            "Epoch 00030: val_loss did not improve from 1.09036\n",
            "Epoch 31/100\n",
            "26884/26884 [==============================] - 4s 141us/step - loss: 0.7624 - mean_absolute_error: 0.3112 - acc: 0.6409 - val_loss: 1.2102 - val_mean_absolute_error: 0.3924 - val_acc: 0.4597\n",
            "\n",
            "Epoch 00031: val_loss did not improve from 1.09036\n",
            "Epoch 32/100\n",
            "26884/26884 [==============================] - 4s 140us/step - loss: 0.7514 - mean_absolute_error: 0.3070 - acc: 0.6522 - val_loss: 1.2233 - val_mean_absolute_error: 0.3934 - val_acc: 0.4542\n",
            "\n",
            "Epoch 00032: val_loss did not improve from 1.09036\n",
            "Epoch 33/100\n",
            "26884/26884 [==============================] - 4s 139us/step - loss: 0.7440 - mean_absolute_error: 0.3030 - acc: 0.6569 - val_loss: 1.2546 - val_mean_absolute_error: 0.3939 - val_acc: 0.4511\n",
            "\n",
            "Epoch 00033: val_loss did not improve from 1.09036\n",
            "Epoch 34/100\n",
            "26884/26884 [==============================] - 4s 140us/step - loss: 0.7343 - mean_absolute_error: 0.2988 - acc: 0.6583 - val_loss: 1.2279 - val_mean_absolute_error: 0.3905 - val_acc: 0.4585\n",
            "\n",
            "Epoch 00034: val_loss did not improve from 1.09036\n",
            "Epoch 35/100\n",
            "26884/26884 [==============================] - 4s 141us/step - loss: 0.7312 - mean_absolute_error: 0.2981 - acc: 0.6603 - val_loss: 1.2409 - val_mean_absolute_error: 0.3957 - val_acc: 0.4530\n",
            "\n",
            "Epoch 00035: val_loss did not improve from 1.09036\n",
            "Epoch 00035: early stopping\n"
          ],
          "name": "stdout"
        }
      ]
    },
    {
      "metadata": {
        "id": "NvHxV3qH836V",
        "colab_type": "code",
        "outputId": "965abfa0-0f6a-43c6-bd75-e812c9601887",
        "colab": {
          "base_uri": "https://localhost:8080/",
          "height": 549
        }
      },
      "cell_type": "code",
      "source": [
        "plot_history(history)"
      ],
      "execution_count": 0,
      "outputs": [
        {
          "output_type": "display_data",
          "data": {
            "image/png": "[encoded data removed]",
            "text/plain": [
              "<Figure size 432x288 with 1 Axes>"
            ]
          },
          "metadata": {
            "tags": []
          }
        },
        {
          "output_type": "display_data",
          "data": {
            "image/png": "[encoded data removed]",
            "text/plain": [
              "<Figure size 432x288 with 1 Axes>"
            ]
          },
          "metadata": {
            "tags": []
          }
        }
      ]
    },
    {
      "metadata": {
        "id": "ApnBzDtp3cOC",
        "colab_type": "code",
        "colab": {}
      },
      "cell_type": "code",
      "source": [
        "# load back best model (early stopping + model checkpoint)\n",
        "model = load_model('weights.hdf5')"
      ],
      "execution_count": 0,
      "outputs": []
    },
    {
      "metadata": {
        "id": "zN_Jetkx3cOE",
        "colab_type": "code",
        "colab": {}
      },
      "cell_type": "code",
      "source": [
        "Y_pred = np.argmax(model.predict(X_test), axis=1)\n",
        "Y_true = np.argmax(Y_test, axis=1)"
      ],
      "execution_count": 0,
      "outputs": []
    },
    {
      "metadata": {
        "id": "7-lubwLU8_BT",
        "colab_type": "code",
        "colab": {}
      },
      "cell_type": "code",
      "source": [
        "Y_pred = np.argmax(model.predict(X_train), axis=1)\n",
        "Y_true = np.argmax(Y_train, axis=1)"
      ],
      "execution_count": 0,
      "outputs": []
    },
    {
      "metadata": {
        "id": "QiK6PGhp3cOF",
        "colab_type": "code",
        "outputId": "88c5a86e-0f46-401c-e3d7-699f53e7239a",
        "colab": {
          "base_uri": "https://localhost:8080/",
          "height": 696
        }
      },
      "cell_type": "code",
      "source": [
        "metrics = evaluate_result(Y_true, Y_pred)\n",
        "for key in metrics:\n",
        "    print(key + \":\", metrics[key], '%')\n",
        "print()\n",
        "\n",
        "title = 'Simple LSTM model on of 30 days ETH_EUR data'\n",
        "\n",
        "# Plot non-normalized confusion matrix\n",
        "plot_confusion_matrix(Y_true, Y_pred, classes=class_names, title=title)\n",
        "\n",
        "# Plot normalized confusion matrix\n",
        "plot_confusion_matrix(Y_true, Y_pred, classes=class_names, normalize=True, title=title)"
      ],
      "execution_count": 0,
      "outputs": [
        {
          "output_type": "stream",
          "text": [
            "accuracy: 0.36743438671665773 %\n",
            "precision: 0.3937984280889228 %\n",
            "recall: 0.36743438671665773 %\n",
            "f1_score: 0.3318645505380053 %\n",
            "\n",
            "Confusion matrix, without normalization\n"
          ],
          "name": "stdout"
        },
        {
          "output_type": "display_data",
          "data": {
            "image/png": "[encoded data removed]",
            "text/plain": [
              "<Figure size 432x288 with 2 Axes>"
            ]
          },
          "metadata": {
            "tags": []
          }
        },
        {
          "output_type": "stream",
          "text": [
            "Normalized confusion matrix\n"
          ],
          "name": "stdout"
        },
        {
          "output_type": "display_data",
          "data": {
            "image/png": "[encoded data removed]",
            "text/plain": [
              "<Figure size 432x288 with 2 Axes>"
            ]
          },
          "metadata": {
            "tags": []
          }
        }
      ]
    },
    {
      "metadata": {
        "id": "ofUpxPTD9SNz",
        "colab_type": "code",
        "colab": {}
      },
      "cell_type": "code",
      "source": [
        ""
      ],
      "execution_count": 0,
      "outputs": []
    }
  ]
}